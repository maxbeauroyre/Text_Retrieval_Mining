{
 "cells": [
  {
   "cell_type": "markdown",
   "metadata": {},
   "source": [
    "# Text Mining and Text Retrieval Assignment\n",
    "#### Juan Gesino, Justas Satkus, Leon Surwald,  Max Beauroyre\n",
    "\n",
    "\n",
    "### Assignment: \n",
    "This assignment will be using a Kaggle dataset that can be accessed here. It consists of a collection of approximatley 140,000 articles from 15 different sources published between the years 2000 and 2017. \n",
    "\n",
    "### Objective of the assignment \n",
    "The goal of this assignment is to analyze the political bias of the different news outlets, and be able to correctly classify the content of a news article to its corresponding news outlet. \n",
    "\n",
    "### Table of Contents \n",
    "\n",
    "#### Section 1.0 \n",
    "- 1.1 Selecting a publication of our choice\n",
    "- 1.2 Identifying the politcal bias \n",
    "- 1.3 Write an initial hypothesis regarding the content of the topics and the angle of said topics as covered by the chosen publicaiton. \n",
    "- 1.4 Present statistics on the chosen publication.\n",
    "\n",
    "\n",
    "#### Section 2.0 \n",
    "- 2.1 Creation of Dictionary\n",
    "- 2.2 Use of Stopwords and Stemming\n",
    "- 2.3 Additional cleaning\n",
    "\n",
    "#### Section 3.0 \n",
    "- 3.1 Corpus BoW with n-grams\n",
    "- 3.2 TF-IDF and Term-Document matrix\n",
    "- 3.3 2 values of K, the number of topics\n",
    "- 3.4 Storing of document embeddings\n",
    "\n",
    "#### Section 4.0 \n",
    "- 4.1 Comparing topics from SVD and LDA\n",
    "- 4.2 Using Jaccard Index to compare the sets of Top-N words\n",
    "- 4.3 Studying and illustrating similarities\n",
    "\n",
    "#### Section 5.0 \n",
    "- 5.1 Selecting values for K\n",
    "- 5.2 Topic of LDA\n",
    "- 5.3 Observation of saturation in a topic\n",
    "- 5.4 Top 10 articles with highest saturation\n",
    "- 5.5 Conclusion with regards to Question 1\n",
    "\n",
    "\n",
    "#### Section 6.0 \n",
    "\n",
    "- 6.1 Selection of second publication\n",
    "- 6.2 LDA on joint corpus\n",
    "- 6.3 LDA embeddings to predict original publication\n",
    "- 6.4 Comparing using Lexical method\n",
    "\n",
    "\n",
    "* The following assignment is broken down into the subsequent sections:\n",
    "\n",
    "1. Describing the Corpus \n",
    "2. Pre-process the Corpus \n",
    "3. Produce a few topic models of your corpus \n",
    "    * This was done with BoW and TF-IDF, using two different values of K. \n",
    "    \n",
    "4. Comparing the Topics \n",
    "    * This will be done usign LDA and SVD \n",
    "    * Jaccard Index will be used to compare the set of N-words from the topics \n",
    "    \n",
    "5. Observing the Saturation \n",
    "\n",
    "6. Predict a publication using an ML model\n",
    "\n",
    "**The pickle file is here just scroll down, this will save on computing time**"
   ]
  },
  {
   "cell_type": "markdown",
   "metadata": {},
   "source": [
    "## 1. Describe the corpus"
   ]
  },
  {
   "cell_type": "markdown",
   "metadata": {},
   "source": [
    "##### Importing the necessary packages"
   ]
  },
  {
   "cell_type": "code",
   "execution_count": 64,
   "metadata": {},
   "outputs": [
    {
     "name": "stderr",
     "output_type": "stream",
     "text": [
      "[nltk_data] Downloading package punkt to\n",
      "[nltk_data]     /Users/leonsurwald/nltk_data...\n",
      "[nltk_data]   Package punkt is already up-to-date!\n"
     ]
    },
    {
     "data": {
      "text/plain": [
       "True"
      ]
     },
     "execution_count": 64,
     "metadata": {},
     "output_type": "execute_result"
    }
   ],
   "source": [
    "# Importing some necessary packages \n",
    "\n",
    "%matplotlib inline\n",
    "import matplotlib.pyplot as plt\n",
    "import numpy as np\n",
    "import pandas as pd\n",
    "\n",
    "from sklearn.feature_extraction.text import CountVectorizer\n",
    "import nltk\n",
    "nltk.download('punkt')"
   ]
  },
  {
   "cell_type": "markdown",
   "metadata": {},
   "source": [
    "####  1. a) Selecting a publication"
   ]
  },
  {
   "cell_type": "markdown",
   "metadata": {},
   "source": [
    "We have made the decision of focusing on Breitbart so will only be importing 'articles1' for this part of the assignment to reduce file size and optimize computing time."
   ]
  },
  {
   "cell_type": "code",
   "execution_count": 10,
   "metadata": {},
   "outputs": [],
   "source": [
    "# creating the dataframe and importing the file \n",
    "df = pd.read_csv('articles1.csv')"
   ]
  },
  {
   "cell_type": "markdown",
   "metadata": {},
   "source": [
    "#### 1. b) Establishing the political bias and initial hypothesis "
   ]
  },
  {
   "cell_type": "code",
   "execution_count": 11,
   "metadata": {},
   "outputs": [],
   "source": [
    "df = df[df[\"publication\"] == \"Breitbart\"]"
   ]
  },
  {
   "cell_type": "markdown",
   "metadata": {},
   "source": [
    "Breitbart News Network is politically conservative American news. Their media bias is extreme right. This information was obtained from [AllSlides](https://www.allsides.com/news-source/breitbart).\n",
    "\n",
    "**1. c)**\n",
    "**Initial Hypothesis:**\n",
    "Breitbart covers news on topics such as gun control, politics, economics, immigration, abortion, trade, anti drugs. Such news topics are covered from an angle of pro gun, anti-immigration, anti-abortion, anti-free trade. The angle when reporting news stories falls in line with their bias being of the extreme right. "
   ]
  },
  {
   "cell_type": "markdown",
   "metadata": {},
   "source": [
    "####  1. d) Description of the publication"
   ]
  },
  {
   "cell_type": "code",
   "execution_count": 4,
   "metadata": {},
   "outputs": [
    {
     "data": {
      "text/html": [
       "<div>\n",
       "<style scoped>\n",
       "    .dataframe tbody tr th:only-of-type {\n",
       "        vertical-align: middle;\n",
       "    }\n",
       "\n",
       "    .dataframe tbody tr th {\n",
       "        vertical-align: top;\n",
       "    }\n",
       "\n",
       "    .dataframe thead th {\n",
       "        text-align: right;\n",
       "    }\n",
       "</style>\n",
       "<table border=\"1\" class=\"dataframe\">\n",
       "  <thead>\n",
       "    <tr style=\"text-align: right;\">\n",
       "      <th></th>\n",
       "      <th>Unnamed: 0</th>\n",
       "      <th>id</th>\n",
       "      <th>title</th>\n",
       "      <th>publication</th>\n",
       "      <th>author</th>\n",
       "      <th>date</th>\n",
       "      <th>year</th>\n",
       "      <th>month</th>\n",
       "      <th>url</th>\n",
       "      <th>content</th>\n",
       "    </tr>\n",
       "  </thead>\n",
       "  <tbody>\n",
       "    <tr>\n",
       "      <th>7803</th>\n",
       "      <td>7803</td>\n",
       "      <td>26539</td>\n",
       "      <td>CNN’s Zeleny: ’Hard to Imagine’ Obama Would Ha...</td>\n",
       "      <td>Breitbart</td>\n",
       "      <td>Ian Hanchett</td>\n",
       "      <td>2017-01-17</td>\n",
       "      <td>2017.0</td>\n",
       "      <td>1.0</td>\n",
       "      <td>NaN</td>\n",
       "      <td>On Tuesday’s broadcast of CNN’s “Situation Roo...</td>\n",
       "    </tr>\n",
       "    <tr>\n",
       "      <th>7804</th>\n",
       "      <td>7804</td>\n",
       "      <td>26540</td>\n",
       "      <td>American Students on Spring Break Chant ’Build...</td>\n",
       "      <td>Breitbart</td>\n",
       "      <td>Katherine Rodriguez</td>\n",
       "      <td>2017-03-21</td>\n",
       "      <td>2017.0</td>\n",
       "      <td>3.0</td>\n",
       "      <td>NaN</td>\n",
       "      <td>A group of American spring break revelers repo...</td>\n",
       "    </tr>\n",
       "    <tr>\n",
       "      <th>7805</th>\n",
       "      <td>7805</td>\n",
       "      <td>26541</td>\n",
       "      <td>Surge in ’Honour Crimes’ and Forced Marriages ...</td>\n",
       "      <td>Breitbart</td>\n",
       "      <td>Liam Deacon</td>\n",
       "      <td>2017-04-08</td>\n",
       "      <td>2017.0</td>\n",
       "      <td>4.0</td>\n",
       "      <td>NaN</td>\n",
       "      <td>“honour crimes” have risen by 40 per cent in...</td>\n",
       "    </tr>\n",
       "    <tr>\n",
       "      <th>7806</th>\n",
       "      <td>7806</td>\n",
       "      <td>26542</td>\n",
       "      <td>MILO Announces New Media Venture - Breitbart</td>\n",
       "      <td>Breitbart</td>\n",
       "      <td>Lucas Nolan</td>\n",
       "      <td>2017-04-28</td>\n",
       "      <td>2017.0</td>\n",
       "      <td>4.0</td>\n",
       "      <td>NaN</td>\n",
       "      <td>Former Breitbart Senior Editor MILO has announ...</td>\n",
       "    </tr>\n",
       "    <tr>\n",
       "      <th>7807</th>\n",
       "      <td>7807</td>\n",
       "      <td>26543</td>\n",
       "      <td>Jared Kushner at Center of Media Spotlight on ...</td>\n",
       "      <td>Breitbart</td>\n",
       "      <td>Penny Starr</td>\n",
       "      <td>2017-05-27</td>\n",
       "      <td>2017.0</td>\n",
       "      <td>5.0</td>\n",
       "      <td>NaN</td>\n",
       "      <td>The focus of the continuous media reports of a...</td>\n",
       "    </tr>\n",
       "  </tbody>\n",
       "</table>\n",
       "</div>"
      ],
      "text/plain": [
       "      Unnamed: 0     id                                              title  \\\n",
       "7803        7803  26539  CNN’s Zeleny: ’Hard to Imagine’ Obama Would Ha...   \n",
       "7804        7804  26540  American Students on Spring Break Chant ’Build...   \n",
       "7805        7805  26541  Surge in ’Honour Crimes’ and Forced Marriages ...   \n",
       "7806        7806  26542       MILO Announces New Media Venture - Breitbart   \n",
       "7807        7807  26543  Jared Kushner at Center of Media Spotlight on ...   \n",
       "\n",
       "     publication               author        date    year  month  url  \\\n",
       "7803   Breitbart         Ian Hanchett  2017-01-17  2017.0    1.0  NaN   \n",
       "7804   Breitbart  Katherine Rodriguez  2017-03-21  2017.0    3.0  NaN   \n",
       "7805   Breitbart          Liam Deacon  2017-04-08  2017.0    4.0  NaN   \n",
       "7806   Breitbart          Lucas Nolan  2017-04-28  2017.0    4.0  NaN   \n",
       "7807   Breitbart          Penny Starr  2017-05-27  2017.0    5.0  NaN   \n",
       "\n",
       "                                                content  \n",
       "7803  On Tuesday’s broadcast of CNN’s “Situation Roo...  \n",
       "7804  A group of American spring break revelers repo...  \n",
       "7805    “honour crimes” have risen by 40 per cent in...  \n",
       "7806  Former Breitbart Senior Editor MILO has announ...  \n",
       "7807  The focus of the continuous media reports of a...  "
      ]
     },
     "execution_count": 4,
     "metadata": {},
     "output_type": "execute_result"
    }
   ],
   "source": [
    "df.head()"
   ]
  },
  {
   "cell_type": "code",
   "execution_count": 5,
   "metadata": {},
   "outputs": [
    {
     "data": {
      "text/html": [
       "<div>\n",
       "<style scoped>\n",
       "    .dataframe tbody tr th:only-of-type {\n",
       "        vertical-align: middle;\n",
       "    }\n",
       "\n",
       "    .dataframe tbody tr th {\n",
       "        vertical-align: top;\n",
       "    }\n",
       "\n",
       "    .dataframe thead th {\n",
       "        text-align: right;\n",
       "    }\n",
       "</style>\n",
       "<table border=\"1\" class=\"dataframe\">\n",
       "  <thead>\n",
       "    <tr style=\"text-align: right;\">\n",
       "      <th></th>\n",
       "      <th>Unnamed: 0</th>\n",
       "      <th>id</th>\n",
       "      <th>year</th>\n",
       "      <th>month</th>\n",
       "      <th>url</th>\n",
       "    </tr>\n",
       "  </thead>\n",
       "  <tbody>\n",
       "    <tr>\n",
       "      <th>count</th>\n",
       "      <td>23781.000000</td>\n",
       "      <td>23781.000000</td>\n",
       "      <td>23781.000000</td>\n",
       "      <td>23781.000000</td>\n",
       "      <td>0.0</td>\n",
       "    </tr>\n",
       "    <tr>\n",
       "      <th>mean</th>\n",
       "      <td>19696.118330</td>\n",
       "      <td>38442.041798</td>\n",
       "      <td>2016.316471</td>\n",
       "      <td>5.458223</td>\n",
       "      <td>NaN</td>\n",
       "    </tr>\n",
       "    <tr>\n",
       "      <th>std</th>\n",
       "      <td>6867.731642</td>\n",
       "      <td>6877.424802</td>\n",
       "      <td>0.472909</td>\n",
       "      <td>3.313807</td>\n",
       "      <td>NaN</td>\n",
       "    </tr>\n",
       "    <tr>\n",
       "      <th>min</th>\n",
       "      <td>7803.000000</td>\n",
       "      <td>26539.000000</td>\n",
       "      <td>2013.000000</td>\n",
       "      <td>1.000000</td>\n",
       "      <td>NaN</td>\n",
       "    </tr>\n",
       "    <tr>\n",
       "      <th>25%</th>\n",
       "      <td>13749.000000</td>\n",
       "      <td>32485.000000</td>\n",
       "      <td>2016.000000</td>\n",
       "      <td>3.000000</td>\n",
       "      <td>NaN</td>\n",
       "    </tr>\n",
       "    <tr>\n",
       "      <th>50%</th>\n",
       "      <td>19695.000000</td>\n",
       "      <td>38438.000000</td>\n",
       "      <td>2016.000000</td>\n",
       "      <td>5.000000</td>\n",
       "      <td>NaN</td>\n",
       "    </tr>\n",
       "    <tr>\n",
       "      <th>75%</th>\n",
       "      <td>25643.000000</td>\n",
       "      <td>44397.000000</td>\n",
       "      <td>2017.000000</td>\n",
       "      <td>8.000000</td>\n",
       "      <td>NaN</td>\n",
       "    </tr>\n",
       "    <tr>\n",
       "      <th>max</th>\n",
       "      <td>31591.000000</td>\n",
       "      <td>50357.000000</td>\n",
       "      <td>2017.000000</td>\n",
       "      <td>12.000000</td>\n",
       "      <td>NaN</td>\n",
       "    </tr>\n",
       "  </tbody>\n",
       "</table>\n",
       "</div>"
      ],
      "text/plain": [
       "         Unnamed: 0            id          year         month  url\n",
       "count  23781.000000  23781.000000  23781.000000  23781.000000  0.0\n",
       "mean   19696.118330  38442.041798   2016.316471      5.458223  NaN\n",
       "std     6867.731642   6877.424802      0.472909      3.313807  NaN\n",
       "min     7803.000000  26539.000000   2013.000000      1.000000  NaN\n",
       "25%    13749.000000  32485.000000   2016.000000      3.000000  NaN\n",
       "50%    19695.000000  38438.000000   2016.000000      5.000000  NaN\n",
       "75%    25643.000000  44397.000000   2017.000000      8.000000  NaN\n",
       "max    31591.000000  50357.000000   2017.000000     12.000000  NaN"
      ]
     },
     "execution_count": 5,
     "metadata": {},
     "output_type": "execute_result"
    }
   ],
   "source": [
    "df.describe()"
   ]
  },
  {
   "cell_type": "code",
   "execution_count": 8,
   "metadata": {},
   "outputs": [
    {
     "data": {
      "text/plain": [
       "70986798"
      ]
     },
     "execution_count": 8,
     "metadata": {},
     "output_type": "execute_result"
    }
   ],
   "source": [
    "# Total number of characters\n",
    "df[\"content\"].apply(lambda t: len(t)).sum()"
   ]
  },
  {
   "cell_type": "code",
   "execution_count": 9,
   "metadata": {},
   "outputs": [
    {
     "data": {
      "text/plain": [
       "2985.021571843068"
      ]
     },
     "execution_count": 9,
     "metadata": {},
     "output_type": "execute_result"
    }
   ],
   "source": [
    "# Average number of characters\n",
    "df[\"content\"].apply(lambda t: len(t)).mean()"
   ]
  },
  {
   "cell_type": "code",
   "execution_count": 10,
   "metadata": {},
   "outputs": [
    {
     "data": {
      "text/plain": [
       "638422"
      ]
     },
     "execution_count": 10,
     "metadata": {},
     "output_type": "execute_result"
    }
   ],
   "source": [
    "#Total number of sentences\n",
    "df[\"content\"].apply(lambda t: len(t.split(\".\"))).sum()"
   ]
  },
  {
   "cell_type": "code",
   "execution_count": 11,
   "metadata": {},
   "outputs": [
    {
     "data": {
      "text/plain": [
       "26.84588537067407"
      ]
     },
     "execution_count": 11,
     "metadata": {},
     "output_type": "execute_result"
    }
   ],
   "source": [
    "# Average number of sentences\n",
    "df[\"content\"].apply(lambda t: len(t.split(\".\"))).mean()"
   ]
  },
  {
   "cell_type": "code",
   "execution_count": 12,
   "metadata": {},
   "outputs": [
    {
     "data": {
      "text/plain": [
       "12384235"
      ]
     },
     "execution_count": 12,
     "metadata": {},
     "output_type": "execute_result"
    }
   ],
   "source": [
    "#Total Words\n",
    "df[\"content\"].apply(lambda t: len(t.split(\" \"))).sum()"
   ]
  },
  {
   "cell_type": "code",
   "execution_count": 13,
   "metadata": {},
   "outputs": [
    {
     "data": {
      "text/plain": [
       "520.761742567596"
      ]
     },
     "execution_count": 13,
     "metadata": {},
     "output_type": "execute_result"
    }
   ],
   "source": [
    "# Average Word Count\n",
    "df[\"content\"].apply(lambda t: len(t.split(\" \"))).mean()"
   ]
  },
  {
   "cell_type": "code",
   "execution_count": 15,
   "metadata": {},
   "outputs": [
    {
     "data": {
      "text/plain": [
       "303225"
      ]
     },
     "execution_count": 15,
     "metadata": {},
     "output_type": "execute_result"
    }
   ],
   "source": [
    "#Creating the initial dictionary \n",
    "list_of_sentences = df[\"content\"].tolist()\n",
    "list_of_list_of_words = list(map(lambda s: s.split(\" \"), list_of_sentences))\n",
    "list_of_words = [val for sublist in list_of_list_of_words for val in sublist]\n",
    "len(set(list_of_words))"
   ]
  },
  {
   "cell_type": "markdown",
   "metadata": {},
   "source": [
    "#### Summary of the observations \n",
    "\n",
    "- There are 23781 articles by Breitbart.\n",
    "\n",
    "- Character count: 70986798\n",
    "\n",
    "- Average characters per article: 2985.02\n",
    "\n",
    "- Sentences count: 638422\n",
    "\n",
    "- Average sentences per article: 26.85\n",
    "\n",
    "- Word count: 12384235\n",
    "\n",
    "- Average words per article: 520.76\n",
    "\n",
    "- Unique Words (dictionary): 303225"
   ]
  },
  {
   "cell_type": "markdown",
   "metadata": {},
   "source": [
    "## 2. Pre-Processing of the Corpus"
   ]
  },
  {
   "cell_type": "markdown",
   "metadata": {},
   "source": [
    "#### 2. a) Creating Dictionary"
   ]
  },
  {
   "cell_type": "code",
   "execution_count": 16,
   "metadata": {},
   "outputs": [],
   "source": [
    "#creating the corpus it will be called papers\n",
    "papers = df[\"content\"]"
   ]
  },
  {
   "cell_type": "code",
   "execution_count": 68,
   "metadata": {},
   "outputs": [],
   "source": [
    "import re\n",
    "\n",
    "# Remove punctuation\n",
    "papers = papers.map(lambda x: re.sub('[,\\.!?]', '', x))\n",
    "\n",
    "# Convert the titles to lowercase\n",
    "papers = papers.map(lambda x: x.lower())\n",
    "\n",
    "# Print out the first rows of papers\n",
    "papers.head()"
   ]
  },
  {
   "cell_type": "markdown",
   "metadata": {},
   "source": [
    "To verify whether the preprocessing has been done correctly, we are going to make a visual representation of the most common words with a word count. "
   ]
  },
  {
   "cell_type": "markdown",
   "metadata": {},
   "source": [
    "#### 2. b) & 2. c)"
   ]
  },
  {
   "cell_type": "markdown",
   "metadata": {},
   "source": [
    "#### Tokenizing the corpus"
   ]
  },
  {
   "cell_type": "code",
   "execution_count": 65,
   "metadata": {},
   "outputs": [],
   "source": [
    "from nltk import word_tokenize\n",
    "\n",
    "papers= list(map(word_tokenize, papers))"
   ]
  },
  {
   "cell_type": "code",
   "execution_count": 19,
   "metadata": {},
   "outputs": [
    {
     "data": {
      "text/plain": [
       "['on',\n",
       " 'tuesday',\n",
       " '’',\n",
       " 's',\n",
       " 'broadcast',\n",
       " 'of',\n",
       " 'cnn',\n",
       " '’',\n",
       " 's',\n",
       " '“',\n",
       " 'situation',\n",
       " 'room',\n",
       " '”',\n",
       " 'cnn',\n",
       " 'senior',\n",
       " 'washington',\n",
       " 'correspondent',\n",
       " 'jeff',\n",
       " 'zeleny',\n",
       " 'stated',\n",
       " 'that',\n",
       " 'chelsea',\n",
       " 'manning',\n",
       " '’',\n",
       " 's',\n",
       " 'transition',\n",
       " 'from',\n",
       " 'a',\n",
       " 'man',\n",
       " 'to',\n",
       " 'a',\n",
       " 'woman',\n",
       " '“',\n",
       " 'certainly',\n",
       " 'played',\n",
       " 'into',\n",
       " '”',\n",
       " 'president',\n",
       " 'obama',\n",
       " '’',\n",
       " 's',\n",
       " 'decision',\n",
       " 'to',\n",
       " 'commute',\n",
       " 'manning',\n",
       " '’',\n",
       " 's',\n",
       " 'sentence',\n",
       " 'and',\n",
       " '“',\n",
       " 'without',\n",
       " 'that',\n",
       " 'it',\n",
       " '’',\n",
       " 's',\n",
       " 'hard',\n",
       " 'to',\n",
       " 'imagine',\n",
       " 'i',\n",
       " 'think',\n",
       " 'this',\n",
       " 'president',\n",
       " 'would',\n",
       " 'have',\n",
       " 'done',\n",
       " 'that',\n",
       " '”',\n",
       " 'zeleny',\n",
       " 'said',\n",
       " '“',\n",
       " 'i',\n",
       " 'think',\n",
       " 'a',\n",
       " 'question',\n",
       " 'that',\n",
       " 'this',\n",
       " 'president',\n",
       " 'the',\n",
       " 'white',\n",
       " 'house',\n",
       " 'will',\n",
       " 'have',\n",
       " 'to',\n",
       " 'answer',\n",
       " 'here',\n",
       " '—',\n",
       " 'will',\n",
       " 'answer',\n",
       " 'and',\n",
       " 'i',\n",
       " 'think',\n",
       " 'it',\n",
       " '’',\n",
       " 's',\n",
       " 'an',\n",
       " 'important',\n",
       " 'one',\n",
       " 'if',\n",
       " '—',\n",
       " 'how',\n",
       " 'much',\n",
       " 'was',\n",
       " 'the',\n",
       " 'personal',\n",
       " 'story',\n",
       " 'of',\n",
       " 'chelsea',\n",
       " 'manning',\n",
       " 'involved',\n",
       " 'in',\n",
       " 'this',\n",
       " 'because',\n",
       " 'the',\n",
       " 'outcry',\n",
       " 'from',\n",
       " 'the',\n",
       " 'left',\n",
       " 'was',\n",
       " 'so',\n",
       " 'strong',\n",
       " 'on',\n",
       " 'this',\n",
       " 'and',\n",
       " 'she',\n",
       " '’',\n",
       " 's',\n",
       " 'having',\n",
       " 'a',\n",
       " 'difficult',\n",
       " 'time',\n",
       " 'in',\n",
       " 'federal',\n",
       " 'prison',\n",
       " 'no',\n",
       " 'question',\n",
       " 'but',\n",
       " 'to',\n",
       " 'me',\n",
       " 'that',\n",
       " 'is',\n",
       " 'a',\n",
       " 'central',\n",
       " 'question',\n",
       " 'here',\n",
       " 'without',\n",
       " 'that',\n",
       " 'you',\n",
       " 'have',\n",
       " 'to',\n",
       " 'wonder',\n",
       " 'if',\n",
       " 'the',\n",
       " 'outcome',\n",
       " 'would',\n",
       " 'be',\n",
       " 'the',\n",
       " 'same',\n",
       " 'i',\n",
       " 'think',\n",
       " 'it',\n",
       " 'might',\n",
       " 'not',\n",
       " 'be',\n",
       " '”',\n",
       " 'he',\n",
       " 'added',\n",
       " '“',\n",
       " '[',\n",
       " 'b',\n",
       " ']',\n",
       " 'ecause',\n",
       " 'she',\n",
       " 'transitioned',\n",
       " 'from',\n",
       " 'a',\n",
       " 'man',\n",
       " 'to',\n",
       " 'a',\n",
       " 'woman',\n",
       " 'i',\n",
       " 'think',\n",
       " 'all',\n",
       " 'of',\n",
       " 'that',\n",
       " 'certainly',\n",
       " 'played',\n",
       " 'into',\n",
       " 'this',\n",
       " 'without',\n",
       " 'that',\n",
       " 'it',\n",
       " '’',\n",
       " 's',\n",
       " 'hard',\n",
       " 'to',\n",
       " 'imagine',\n",
       " 'i',\n",
       " 'think',\n",
       " 'this',\n",
       " 'president',\n",
       " 'would',\n",
       " 'have',\n",
       " 'done',\n",
       " 'that',\n",
       " '”',\n",
       " '(',\n",
       " 'mediaite',\n",
       " ')',\n",
       " 'follow',\n",
       " 'ian',\n",
       " 'hanchett',\n",
       " 'on',\n",
       " 'twitter',\n",
       " '@',\n",
       " 'ianhanchett']"
      ]
     },
     "execution_count": 19,
     "metadata": {},
     "output_type": "execute_result"
    }
   ],
   "source": [
    "papers[0]"
   ]
  },
  {
   "cell_type": "markdown",
   "metadata": {},
   "source": [
    "#### Removing the stopwords"
   ]
  },
  {
   "cell_type": "code",
   "execution_count": 70,
   "metadata": {},
   "outputs": [
    {
     "name": "stderr",
     "output_type": "stream",
     "text": [
      "[nltk_data] Downloading package stopwords to\n",
      "[nltk_data]     /Users/leonsurwald/nltk_data...\n",
      "[nltk_data]   Package stopwords is already up-to-date!\n"
     ]
    }
   ],
   "source": [
    "#Removing the stopwords\n",
    "import nltk\n",
    "nltk.download('stopwords')\n",
    "from nltk.corpus import stopwords\n",
    "\n",
    "def remove_stopwords(tokens):\n",
    "    return [w for w in tokens if not w in stopwords.words(\"english\")]\n",
    "\n",
    "papers = list(map(remove_stopwords, papers))"
   ]
  },
  {
   "cell_type": "markdown",
   "metadata": {},
   "source": [
    "#### Lemmatizing the corpus"
   ]
  },
  {
   "cell_type": "code",
   "execution_count": 48,
   "metadata": {},
   "outputs": [],
   "source": [
    "# Lemmatizing corpuses words\n",
    "from nltk.stem.wordnet import WordNetLemmatizer\n",
    "\n",
    "stemmer = WordNetLemmatizer()\n",
    "\n",
    "def stemize(words):\n",
    "    stems = [stemmer.lemmatize(word) for word in words]\n",
    "    return stems\n",
    "\n",
    "papers = list(map(stemize, corpuses))"
   ]
  },
  {
   "cell_type": "markdown",
   "metadata": {},
   "source": [
    "#### Exporting Pickle File"
   ]
  },
  {
   "cell_type": "code",
   "execution_count": 3,
   "metadata": {},
   "outputs": [],
   "source": [
    "# Exporting the pickle file\n",
    "#with open('corpuses_stems.pkl', 'wb') as f:\n",
    "    #pickle.dump(corpuses_stems, f)"
   ]
  },
  {
   "cell_type": "markdown",
   "metadata": {},
   "source": [
    "#### Importing Pickle File which contains pre-processing from above"
   ]
  },
  {
   "cell_type": "code",
   "execution_count": 18,
   "metadata": {},
   "outputs": [
    {
     "ename": "EOFError",
     "evalue": "Ran out of input",
     "output_type": "error",
     "traceback": [
      "\u001b[0;31m---------------------------------------------------------------------------\u001b[0m",
      "\u001b[0;31mEOFError\u001b[0m                                  Traceback (most recent call last)",
      "\u001b[0;32m<ipython-input-18-709375a11dfd>\u001b[0m in \u001b[0;36m<module>\u001b[0;34m\u001b[0m\n\u001b[1;32m      2\u001b[0m \u001b[0;32mimport\u001b[0m \u001b[0mpickle\u001b[0m\u001b[0;34m\u001b[0m\u001b[0;34m\u001b[0m\u001b[0m\n\u001b[1;32m      3\u001b[0m \u001b[0;32mwith\u001b[0m \u001b[0mopen\u001b[0m\u001b[0;34m(\u001b[0m\u001b[0;34m'corpuses_stems.pkl'\u001b[0m\u001b[0;34m,\u001b[0m \u001b[0;34m'rb'\u001b[0m\u001b[0;34m)\u001b[0m \u001b[0;32mas\u001b[0m \u001b[0mhandle\u001b[0m\u001b[0;34m:\u001b[0m\u001b[0;34m\u001b[0m\u001b[0;34m\u001b[0m\u001b[0m\n\u001b[0;32m----> 4\u001b[0;31m      \u001b[0mpapers\u001b[0m\u001b[0;34m=\u001b[0m \u001b[0mpickle\u001b[0m\u001b[0;34m.\u001b[0m\u001b[0mload\u001b[0m\u001b[0;34m(\u001b[0m\u001b[0mhandle\u001b[0m\u001b[0;34m)\u001b[0m\u001b[0;34m\u001b[0m\u001b[0;34m\u001b[0m\u001b[0m\n\u001b[0m",
      "\u001b[0;31mEOFError\u001b[0m: Ran out of input"
     ]
    }
   ],
   "source": [
    "# Importing the pickle file \n",
    "import pickle\n",
    "with open('corpuses_stems.pkl', 'rb') as handle:\n",
    "     papers= pickle.load(handle)"
   ]
  },
  {
   "cell_type": "code",
   "execution_count": 15,
   "metadata": {},
   "outputs": [
    {
     "data": {
      "text/plain": [
       "23781"
      ]
     },
     "execution_count": 15,
     "metadata": {},
     "output_type": "execute_result"
    }
   ],
   "source": [
    "# Corroborating the file \n",
    "len(papers)"
   ]
  },
  {
   "cell_type": "code",
   "execution_count": 16,
   "metadata": {},
   "outputs": [],
   "source": [
    "corpus = []\n",
    "for article in papers:\n",
    "    text = ''        \n",
    "    for word in article:\n",
    "        if text == '':\n",
    "            text+=word\n",
    "        else:\n",
    "            text+=' '+word\n",
    "    corpus.append(text)"
   ]
  },
  {
   "cell_type": "code",
   "execution_count": 17,
   "metadata": {},
   "outputs": [
    {
     "data": {
      "text/plain": [
       "'tuesday broadcast cnn situation room cnn senior washington correspondent jeff zeleny stated chelsea manning transition man woman certainly played president obama decision commute manning sentence without hard imagine think president would done zeleny said think question president white house answer answer think important one much personal story chelsea manning involved outcry left strong difficult time federal prison question central question without wonder outcome would think might added b ecause transitioned man woman think certainly played without hard imagine think president would done mediaite follow ian hanchett twitter ianhanchett'"
      ]
     },
     "execution_count": 17,
     "metadata": {},
     "output_type": "execute_result"
    }
   ],
   "source": [
    "corpus[0]"
   ]
  },
  {
   "cell_type": "markdown",
   "metadata": {},
   "source": [
    "#### Creating a WordCloud Representation"
   ]
  },
  {
   "cell_type": "code",
   "execution_count": 19,
   "metadata": {},
   "outputs": [
    {
     "data": {
      "image/png": "[encoded data removed]",
      "text/plain": [
       "<PIL.Image.Image image mode=RGB size=400x200 at 0x1768A3828>"
      ]
     },
     "execution_count": 19,
     "metadata": {},
     "output_type": "execute_result"
    }
   ],
   "source": [
    "#!pip install wordcloud\n",
    "from wordcloud import WordCloud\n",
    "\n",
    "# Join the different processed titles together.\n",
    "unique_string=(\" \").join(corpus)\n",
    "\n",
    "# Create a WordCloud object\n",
    "wordcloud = WordCloud(background_color=\"white\", max_words=1000, contour_width=3, contour_color='steelblue')\n",
    "\n",
    "# Generate a word cloud\n",
    "wordcloud.generate(unique_string)\n",
    "\n",
    "# Visualize the word cloud\n",
    "wordcloud.to_image()"
   ]
  },
  {
   "cell_type": "markdown",
   "metadata": {},
   "source": [
    "## Question 3 - Producing a few Topic Models"
   ]
  },
  {
   "cell_type": "markdown",
   "metadata": {},
   "source": [
    "Next, we are going to transform the textual data by converting the documents into a  vector representation using a BoW with TF-IDF weighting."
   ]
  },
  {
   "cell_type": "code",
   "execution_count": 16,
   "metadata": {},
   "outputs": [],
   "source": [
    "# Load the library with the CountVectorizer method\n",
    "from sklearn.feature_extraction.text import CountVectorizer\n",
    "import numpy as np\n",
    "\n",
    "import matplotlib.pyplot as plt\n",
    "import seaborn as sns\n",
    "sns.set_style('whitegrid')\n",
    "%matplotlib inline\n",
    "\n",
    "# Helper function\n",
    "def plot_10_most_common_words(count_data, count_vectorizer):\n",
    "    import matplotlib.pyplot as plt\n",
    "    words = count_vectorizer.get_feature_names()\n",
    "    total_counts = np.zeros(len(words))\n",
    "    for t in count_data:\n",
    "        total_counts+=t.toarray()[0]\n",
    "    \n",
    "    count_dict = (zip(words, total_counts))\n",
    "    count_dict = sorted(count_dict, key=lambda x:x[1], reverse=True)[0:10]\n",
    "    words = [w[0] for w in count_dict]\n",
    "    counts = [w[1] for w in count_dict]\n",
    "    x_pos = np.arange(len(words)) \n",
    "    \n",
    "    plt.figure(2, figsize=(15, 15/1.6180))\n",
    "    plt.subplot(title='10 most common words')\n",
    "    sns.set_context(\"notebook\", font_scale=1.25, rc={\"lines.linewidth\": 2.5})\n",
    "    sns.barplot(x_pos, counts, palette='husl')\n",
    "    plt.xticks(x_pos, words, rotation=90) \n",
    "    plt.xlabel('words')\n",
    "    plt.ylabel('counts')\n",
    "    plt.show()\n"
   ]
  },
  {
   "cell_type": "markdown",
   "metadata": {},
   "source": [
    "#### 3. a) & b) Creating BoW using TF-IDF weighting"
   ]
  },
  {
   "cell_type": "markdown",
   "metadata": {},
   "source": [
    "#### TF-IDF"
   ]
  },
  {
   "cell_type": "code",
   "execution_count": 17,
   "metadata": {},
   "outputs": [
    {
     "ename": "NameError",
     "evalue": "name 'corpus' is not defined",
     "output_type": "error",
     "traceback": [
      "\u001b[0;31m---------------------------------------------------------------------------\u001b[0m",
      "\u001b[0;31mNameError\u001b[0m                                 Traceback (most recent call last)",
      "\u001b[0;32m<ipython-input-17-e95ffd054c62>\u001b[0m in \u001b[0;36m<module>\u001b[0;34m\u001b[0m\n\u001b[1;32m      9\u001b[0m \u001b[0;34m\u001b[0m\u001b[0m\n\u001b[1;32m     10\u001b[0m \u001b[0;31m# Generate matrix of word vectors\u001b[0m\u001b[0;34m\u001b[0m\u001b[0;34m\u001b[0m\u001b[0;34m\u001b[0m\u001b[0m\n\u001b[0;32m---> 11\u001b[0;31m \u001b[0mtfidf1\u001b[0m \u001b[0;34m=\u001b[0m \u001b[0mvectorizer\u001b[0m\u001b[0;34m.\u001b[0m\u001b[0mfit_transform\u001b[0m\u001b[0;34m(\u001b[0m\u001b[0mcorpus\u001b[0m\u001b[0;34m)\u001b[0m\u001b[0;34m\u001b[0m\u001b[0;34m\u001b[0m\u001b[0m\n\u001b[0m\u001b[1;32m     12\u001b[0m \u001b[0;34m\u001b[0m\u001b[0m\n\u001b[1;32m     13\u001b[0m \u001b[0;31m# Get words in the vocabulary\u001b[0m\u001b[0;34m\u001b[0m\u001b[0;34m\u001b[0m\u001b[0;34m\u001b[0m\u001b[0m\n",
      "\u001b[0;31mNameError\u001b[0m: name 'corpus' is not defined"
     ]
    }
   ],
   "source": [
    "# Import TfidfVectorizer\n",
    "from sklearn.feature_extraction.text import TfidfVectorizer\n",
    "\n",
    "\n",
    "# Create TfidfVectorizer object\n",
    "vectorizer = TfidfVectorizer(lowercase = True, \n",
    "                             ngram_range=(1,3),\n",
    "                            max_features=5000)\n",
    "\n",
    "# Generate matrix of word vectors\n",
    "tfidf1 = vectorizer.fit_transform(corpus)\n",
    "\n",
    "# Get words in the vocabulary\n",
    "tfidf1_vocab = vectorizer.get_feature_names()\n",
    "\n",
    "\n",
    "# Visualise the 10 most common words\n",
    "# plot_10_most_common_words(tfidf, vectorizer)"
   ]
  },
  {
   "cell_type": "markdown",
   "metadata": {},
   "source": [
    "#### Importing packages and defining printing function"
   ]
  },
  {
   "cell_type": "code",
   "execution_count": 22,
   "metadata": {},
   "outputs": [],
   "source": [
    "import warnings\n",
    "warnings.simplefilter(\"ignore\", DeprecationWarning)\n",
    "# Load the LDA model from sk-learn\n",
    "from sklearn.decomposition import LatentDirichletAllocation as LDA\n",
    "from sklearn.preprocessing import Normalizer\n",
    "from sklearn.decomposition import TruncatedSVD\n",
    " \n",
    "# Helper function\n",
    "def print_topics(model, count_vectorizer, n_top_words):\n",
    "    words = count_vectorizer.get_feature_names()\n",
    "    for topic_idx, topic in enumerate(model.components_):\n",
    "        print(\"\\nTopic #%d:\" % topic_idx)\n",
    "        print(\" \".join([words[i]\n",
    "                        for i in topic.argsort()[:-n_top_words - 1:-1]]))"
   ]
  },
  {
   "cell_type": "markdown",
   "metadata": {},
   "source": [
    "#### 3. c) LDA TF-IDF with K=5"
   ]
  },
  {
   "cell_type": "code",
   "execution_count": 23,
   "metadata": {},
   "outputs": [
    {
     "name": "stdout",
     "output_type": "stream",
     "text": [
      "Topics found via LDA:\n",
      "\n",
      "Topic #0:\n",
      "said state year people police attack muslim migrant one woman\n",
      "\n",
      "Topic #1:\n",
      "trump clinton said hillary republican donald donald trump president campaign hillary clinton\n",
      "\n",
      "Topic #2:\n",
      "jeff poor poor jeff baker brexit ben nfl kew ben kew trent\n",
      "\n",
      "Topic #3:\n",
      "advertisement comey fbi classified investigation amazon pollak ap joel joel pollak\n",
      "\n",
      "Topic #4:\n",
      "gun texas police breitbart texas breitbart officer cartel awrhawkins border illegal\n"
     ]
    }
   ],
   "source": [
    "# Tweak the two parameters below\n",
    "number_topics = 5\n",
    "number_words = 10\n",
    "\n",
    "# Create and fit the LDA model\n",
    "lda = LDA(n_components=number_topics,\n",
    "          max_iter=10,\n",
    "          n_jobs=-1,\n",
    "          learning_method='online',\n",
    "          batch_size=128\n",
    "         )\n",
    "\n",
    "lda_fit=lda.fit_transform(tfidf1)\n",
    "\n",
    "# Print the topics found by the LDA model\n",
    "print(\"Topics found via LDA:\")\n",
    "print_topics(lda, vectorizer, number_words)\n",
    "\n",
    "# Normalizing \n",
    "normalizer = Normalizer()\n",
    "lda_norm5 = normalizer.fit_transform(lda_fit)"
   ]
  },
  {
   "cell_type": "markdown",
   "metadata": {},
   "source": [
    "#### LDA TF-IDF with K=10"
   ]
  },
  {
   "cell_type": "code",
   "execution_count": 14,
   "metadata": {},
   "outputs": [
    {
     "ename": "NameError",
     "evalue": "name 'LDA' is not defined",
     "output_type": "error",
     "traceback": [
      "\u001b[0;31m---------------------------------------------------------------------------\u001b[0m",
      "\u001b[0;31mNameError\u001b[0m                                 Traceback (most recent call last)",
      "\u001b[0;32m<ipython-input-14-8b7aa7c673d3>\u001b[0m in \u001b[0;36m<module>\u001b[0;34m\u001b[0m\n\u001b[1;32m      4\u001b[0m \u001b[0;34m\u001b[0m\u001b[0m\n\u001b[1;32m      5\u001b[0m \u001b[0;31m# Create and fit the LDA model\u001b[0m\u001b[0;34m\u001b[0m\u001b[0;34m\u001b[0m\u001b[0;34m\u001b[0m\u001b[0m\n\u001b[0;32m----> 6\u001b[0;31m lda = LDA(n_components=number_topics,\n\u001b[0m\u001b[1;32m      7\u001b[0m           \u001b[0mmax_iter\u001b[0m\u001b[0;34m=\u001b[0m\u001b[0;36m10\u001b[0m\u001b[0;34m,\u001b[0m\u001b[0;34m\u001b[0m\u001b[0;34m\u001b[0m\u001b[0m\n\u001b[1;32m      8\u001b[0m           \u001b[0mn_jobs\u001b[0m\u001b[0;34m=\u001b[0m\u001b[0;34m-\u001b[0m\u001b[0;36m1\u001b[0m\u001b[0;34m,\u001b[0m\u001b[0;34m\u001b[0m\u001b[0;34m\u001b[0m\u001b[0m\n",
      "\u001b[0;31mNameError\u001b[0m: name 'LDA' is not defined"
     ]
    }
   ],
   "source": [
    "# Tweak the two parameters below\n",
    "number_topics = 10\n",
    "number_words = 10\n",
    "\n",
    "# Create and fit the LDA model\n",
    "lda = LDA(n_components=number_topics,\n",
    "          max_iter=10,\n",
    "          n_jobs=-1,\n",
    "          learning_method='online',\n",
    "          batch_size=128\n",
    "         )\n",
    "\n",
    "lda_fit=lda.fit_transform(tfidf1)\n",
    "\n",
    "# Print the topics found by the LDA model\n",
    "print(\"Topics found via LDA:\")\n",
    "print_topics(lda, vectorizer, number_words)\n",
    "\n",
    "# Normalizing \n",
    "normalizer = Normalizer()\n",
    "lda_norm = normalizer.fit_transform(lda_fit)"
   ]
  },
  {
   "cell_type": "markdown",
   "metadata": {},
   "source": [
    "#### SVD TF-IDF with K=5"
   ]
  },
  {
   "cell_type": "code",
   "execution_count": 25,
   "metadata": {},
   "outputs": [
    {
     "name": "stdout",
     "output_type": "stream",
     "text": [
      "Topics found via SVD:\n",
      "\n",
      "Topic #0:\n",
      "trump clinton said president people state donald would news hillary\n",
      "\n",
      "Topic #1:\n",
      "police migrant texas gun officer breitbart attack breitbart texas student islamic\n",
      "\n",
      "Topic #2:\n",
      "clinton hillary hillary clinton email foundation gun clinton foundation sander fbi bill clinton\n",
      "\n",
      "Topic #3:\n",
      "gun awrhawkins breitbart awr awr hawkins hawkins second amendment breitbart news trump amendment\n",
      "\n",
      "Topic #4:\n",
      "percent texas cruz breitbart texas poll rubio border cartel voter immigration\n"
     ]
    }
   ],
   "source": [
    "# Tweak the two parameters below\n",
    "number_topics = 5\n",
    "number_words = 10\n",
    "\n",
    "# Create and fit the LDA model\n",
    "svd = TruncatedSVD(n_components=number_topics)\n",
    "svd_fit=svd.fit_transform(tfidf1)\n",
    "\n",
    "# Print the topics found by the LDA model\n",
    "print(\"Topics found via SVD:\")\n",
    "print_topics(svd, vectorizer, number_words)\n",
    "\n",
    "# Normalizing \n",
    "normalizer = Normalizer()\n",
    "svd_norm5 = normalizer.fit_transform(svd_fit)"
   ]
  },
  {
   "cell_type": "markdown",
   "metadata": {},
   "source": [
    "#### SVD TF-IDF with K=10"
   ]
  },
  {
   "cell_type": "code",
   "execution_count": 26,
   "metadata": {},
   "outputs": [
    {
     "name": "stdout",
     "output_type": "stream",
     "text": [
      "Topics found via SVD:\n",
      "\n",
      "Topic #0:\n",
      "trump clinton said president people state donald would news hillary\n",
      "\n",
      "Topic #1:\n",
      "police migrant texas gun officer breitbart attack breitbart texas student islamic\n",
      "\n",
      "Topic #2:\n",
      "clinton hillary hillary clinton email foundation gun clinton foundation sander fbi bill clinton\n",
      "\n",
      "Topic #3:\n",
      "gun awrhawkins breitbart awr awr hawkins hawkins second amendment breitbart news amendment trump\n",
      "\n",
      "Topic #4:\n",
      "percent texas cruz breitbart texas poll border rubio cartel voter immigration\n",
      "\n",
      "Topic #5:\n",
      "police milo twitter black student woman officer pic pic twitter facebook\n",
      "\n",
      "Topic #6:\n",
      "texas breitbart breitbart texas cartel news border president trump agent breitbart news\n",
      "\n",
      "Topic #7:\n",
      "breitbart news breitbart news breitbart news daily news daily percent siriusxm daily milo conservative\n",
      "\n",
      "Topic #8:\n",
      "trump attack police islamic israel migrant cruz muslim islamic state terrorist\n",
      "\n",
      "Topic #9:\n",
      "trump obama president percent milo student white white house donald trump donald\n"
     ]
    }
   ],
   "source": [
    "# Tweak the two parameters below\n",
    "number_topics = 10\n",
    "number_words = 10\n",
    "\n",
    "# Create and fit the LDA model\n",
    "svd = TruncatedSVD(n_components=number_topics)\n",
    "svd_fit=svd.fit_transform(tfidf1)\n",
    "\n",
    "# Print the topics found by the LDA model\n",
    "print(\"Topics found via SVD:\")\n",
    "print_topics(svd, vectorizer, number_words)\n",
    "\n",
    "# Normalizing \n",
    "normalizer = Normalizer()\n",
    "svd_norm = normalizer.fit_transform(svd_fit)"
   ]
  },
  {
   "cell_type": "markdown",
   "metadata": {},
   "source": [
    "#### 3. d) Document Embeddings \n",
    "\n",
    "We have 4 document embeddings.\n",
    "\n",
    "-  lda_norm5 (k=5)\n",
    "-  lda_norm (k=10)\n",
    "-  svd_norm5 (k=5)\n",
    "-  svd_norm (k=10)\n",
    "\n",
    "We will proceed with using k=10 when comparing LDA & SVD."
   ]
  },
  {
   "cell_type": "markdown",
   "metadata": {},
   "source": [
    "## Question 4 - Comparing the Topics"
   ]
  },
  {
   "cell_type": "markdown",
   "metadata": {},
   "source": [
    "#### 4. a) Using k=10 topics rising from SVD and  topics rising from LDA are copared. Comparison shows that topics rising from the models are quite similar: campaign about Trump, gun control, and border immigration - common topics between the two."
   ]
  },
  {
   "cell_type": "markdown",
   "metadata": {},
   "source": [
    "#### 4. b) Using Jaccard Index to compared topics found by SVD and LDA"
   ]
  },
  {
   "cell_type": "code",
   "execution_count": 12,
   "metadata": {},
   "outputs": [],
   "source": [
    "###################\n",
    "# An adjusted version of the print_top_words function that returns a list of the top words per topic\n",
    "def topwords(model, feature_names, n_top_words):\n",
    "    all_topics = []\n",
    "    for topic_idx, topic in enumerate(model.components_):\n",
    "        message = \"Topic #%d: \" % topic_idx\n",
    "        message += \" \".join([feature_names[i]\n",
    "                             for i in topic.argsort()[:-n_top_words - 1:-1]])\n",
    "        all_topics.append(message)\n",
    "        \n",
    "    return all_topics\n",
    "        "
   ]
  },
  {
   "cell_type": "code",
   "execution_count": 13,
   "metadata": {},
   "outputs": [
    {
     "name": "stdout",
     "output_type": "stream",
     "text": [
      "Requirement already satisfied: jaccard-index in /anaconda3/lib/python3.7/site-packages (0.0.3)\r\n"
     ]
    },
    {
     "ename": "NameError",
     "evalue": "name 'lda' is not defined",
     "output_type": "error",
     "traceback": [
      "\u001b[0;31m---------------------------------------------------------------------------\u001b[0m",
      "\u001b[0;31mNameError\u001b[0m                                 Traceback (most recent call last)",
      "\u001b[0;32m<ipython-input-13-39f16228dd04>\u001b[0m in \u001b[0;36m<module>\u001b[0;34m\u001b[0m\n\u001b[1;32m      3\u001b[0m \u001b[0;34m\u001b[0m\u001b[0m\n\u001b[1;32m      4\u001b[0m \u001b[0;31m# Getting feature names and getting the topwords for both LDA and SVD\u001b[0m\u001b[0;34m\u001b[0m\u001b[0;34m\u001b[0m\u001b[0;34m\u001b[0m\u001b[0m\n\u001b[0;32m----> 5\u001b[0;31m \u001b[0mtopwords_lda\u001b[0m \u001b[0;34m=\u001b[0m \u001b[0mtopwords\u001b[0m\u001b[0;34m(\u001b[0m\u001b[0mlda\u001b[0m\u001b[0;34m,\u001b[0m\u001b[0mtfidf1_vocab\u001b[0m\u001b[0;34m,\u001b[0m \u001b[0mn_top_words\u001b[0m\u001b[0;34m=\u001b[0m\u001b[0;36m50\u001b[0m\u001b[0;34m)\u001b[0m\u001b[0;34m\u001b[0m\u001b[0;34m\u001b[0m\u001b[0m\n\u001b[0m\u001b[1;32m      6\u001b[0m \u001b[0mtopwords_svd\u001b[0m \u001b[0;34m=\u001b[0m \u001b[0mtopwords\u001b[0m\u001b[0;34m(\u001b[0m\u001b[0msvd\u001b[0m\u001b[0;34m,\u001b[0m\u001b[0mtfidf1_vocab\u001b[0m\u001b[0;34m,\u001b[0m \u001b[0mn_top_words\u001b[0m\u001b[0;34m=\u001b[0m\u001b[0;36m50\u001b[0m\u001b[0;34m)\u001b[0m\u001b[0;34m\u001b[0m\u001b[0;34m\u001b[0m\u001b[0m\n\u001b[1;32m      7\u001b[0m \u001b[0;34m\u001b[0m\u001b[0m\n",
      "\u001b[0;31mNameError\u001b[0m: name 'lda' is not defined"
     ]
    }
   ],
   "source": [
    "#!pip install jaccard-index \n",
    "from jaccard_index.jaccard import jaccard_index\n",
    "\n",
    "# Getting feature names and getting the topwords for both LDA and SVD\n",
    "topwords_lda = topwords(lda,tfidf1_vocab, n_top_words=50)\n",
    "topwords_svd = topwords(svd,tfidf1_vocab, n_top_words=50)\n",
    "\n",
    "print(\"\\nComparison of LDA and SVD Top words using Jaccard Index\")\n",
    "\n",
    "for i in range(len(topwords_lda)):\n",
    "    print('topic',i,'has a Jaccard index of:',jaccard_index(topwords_lda[i],topwords_svd[i]))\n",
    "\n",
    "ascii_histogram(data)\n"
   ]
  },
  {
   "cell_type": "markdown",
   "metadata": {},
   "source": [
    "#### 4. c) The Jaccard Index between the LDA and SVD appears to be hovering around 0.5. The only exception is topic 0 which has a particularly high score with 0.77. This makes sense as for both LDA and SVD, topic 0 seems to be concerned with 'Trump' and 'Clinton' - so most likely something about their rivalry. Overall, LDA and SVD suggest to produce similar results but they are far from identical."
   ]
  },
  {
   "cell_type": "markdown",
   "metadata": {},
   "source": [
    "## Question 5 - Study your Corpus\n",
    "\n",
    "- We will be selecting the LDA which takes into account 10 topics."
   ]
  },
  {
   "cell_type": "markdown",
   "metadata": {},
   "source": [
    "#### 5. a) - value for K = 10, topic 0 was selected , b), c)"
   ]
  },
  {
   "cell_type": "code",
   "execution_count": 31,
   "metadata": {},
   "outputs": [],
   "source": [
    "import pandas as pd\n",
    "df_corpus=pd.DataFrame(corpus) "
   ]
  },
  {
   "cell_type": "code",
   "execution_count": 32,
   "metadata": {},
   "outputs": [
    {
     "data": {
      "text/html": [
       "<div>\n",
       "<style scoped>\n",
       "    .dataframe tbody tr th:only-of-type {\n",
       "        vertical-align: middle;\n",
       "    }\n",
       "\n",
       "    .dataframe tbody tr th {\n",
       "        vertical-align: top;\n",
       "    }\n",
       "\n",
       "    .dataframe thead th {\n",
       "        text-align: right;\n",
       "    }\n",
       "</style>\n",
       "<table border=\"1\" class=\"dataframe\">\n",
       "  <thead>\n",
       "    <tr style=\"text-align: right;\">\n",
       "      <th></th>\n",
       "      <th>0</th>\n",
       "    </tr>\n",
       "  </thead>\n",
       "  <tbody>\n",
       "    <tr>\n",
       "      <th>0</th>\n",
       "      <td>tuesday broadcast cnn situation room cnn senio...</td>\n",
       "    </tr>\n",
       "    <tr>\n",
       "      <th>1</th>\n",
       "      <td>group american spring break reveler reportedly...</td>\n",
       "    </tr>\n",
       "    <tr>\n",
       "      <th>2</th>\n",
       "      <td>honour crime risen per cent five year london n...</td>\n",
       "    </tr>\n",
       "    <tr>\n",
       "      <th>3</th>\n",
       "      <td>former breitbart senior editor milo announced ...</td>\n",
       "    </tr>\n",
       "    <tr>\n",
       "      <th>4</th>\n",
       "      <td>focus continuous medium report alleged collusi...</td>\n",
       "    </tr>\n",
       "  </tbody>\n",
       "</table>\n",
       "</div>"
      ],
      "text/plain": [
       "                                                   0\n",
       "0  tuesday broadcast cnn situation room cnn senio...\n",
       "1  group american spring break reveler reportedly...\n",
       "2  honour crime risen per cent five year london n...\n",
       "3  former breitbart senior editor milo announced ...\n",
       "4  focus continuous medium report alleged collusi..."
      ]
     },
     "execution_count": 32,
     "metadata": {},
     "output_type": "execute_result"
    }
   ],
   "source": [
    "df_corpus.head()"
   ]
  },
  {
   "cell_type": "code",
   "execution_count": 33,
   "metadata": {},
   "outputs": [],
   "source": [
    "df_corpus.columns=['Content']"
   ]
  },
  {
   "cell_type": "code",
   "execution_count": 34,
   "metadata": {},
   "outputs": [],
   "source": [
    "# Saturation DataFrame\n",
    "col_names = []\n",
    "for i in range(len(lda_norm[0])):\n",
    "    col_names.append(\"topic \"+str(i))\n",
    "    \n",
    "# Making the Dataframe\n",
    "saturation = pd.DataFrame(lda_norm,columns=col_names)\n",
    "\n",
    "# Joining the saturation with the articles\n",
    "saturation = saturation.join(df_corpus)\n",
    "\n",
    "# Sorting the articles by saturation of topic 0\n",
    "saturation = saturation.sort_values(by='topic 0',ascending=False)"
   ]
  },
  {
   "cell_type": "code",
   "execution_count": 35,
   "metadata": {},
   "outputs": [
    {
     "data": {
      "text/html": [
       "<div>\n",
       "<style scoped>\n",
       "    .dataframe tbody tr th:only-of-type {\n",
       "        vertical-align: middle;\n",
       "    }\n",
       "\n",
       "    .dataframe tbody tr th {\n",
       "        vertical-align: top;\n",
       "    }\n",
       "\n",
       "    .dataframe thead th {\n",
       "        text-align: right;\n",
       "    }\n",
       "</style>\n",
       "<table border=\"1\" class=\"dataframe\">\n",
       "  <thead>\n",
       "    <tr style=\"text-align: right;\">\n",
       "      <th></th>\n",
       "      <th>topic 0</th>\n",
       "      <th>topic 1</th>\n",
       "      <th>topic 2</th>\n",
       "      <th>topic 3</th>\n",
       "      <th>topic 4</th>\n",
       "      <th>topic 5</th>\n",
       "      <th>topic 6</th>\n",
       "      <th>topic 7</th>\n",
       "      <th>topic 8</th>\n",
       "      <th>topic 9</th>\n",
       "      <th>Content</th>\n",
       "    </tr>\n",
       "  </thead>\n",
       "  <tbody>\n",
       "    <tr>\n",
       "      <th>18616</th>\n",
       "      <td>0.999918</td>\n",
       "      <td>0.004234</td>\n",
       "      <td>0.004602</td>\n",
       "      <td>0.004233</td>\n",
       "      <td>0.004232</td>\n",
       "      <td>0.004232</td>\n",
       "      <td>0.004234</td>\n",
       "      <td>0.004233</td>\n",
       "      <td>0.004233</td>\n",
       "      <td>0.004232</td>\n",
       "      <td>president barack obama delivers final state un...</td>\n",
       "    </tr>\n",
       "    <tr>\n",
       "      <th>13941</th>\n",
       "      <td>0.999916</td>\n",
       "      <td>0.004999</td>\n",
       "      <td>0.004227</td>\n",
       "      <td>0.004227</td>\n",
       "      <td>0.004228</td>\n",
       "      <td>0.004227</td>\n",
       "      <td>0.004228</td>\n",
       "      <td>0.004226</td>\n",
       "      <td>0.004227</td>\n",
       "      <td>0.004301</td>\n",
       "      <td>know old ideological label conservative libera...</td>\n",
       "    </tr>\n",
       "    <tr>\n",
       "      <th>4596</th>\n",
       "      <td>0.999907</td>\n",
       "      <td>0.004270</td>\n",
       "      <td>0.006297</td>\n",
       "      <td>0.004271</td>\n",
       "      <td>0.004270</td>\n",
       "      <td>0.004270</td>\n",
       "      <td>0.004273</td>\n",
       "      <td>0.004269</td>\n",
       "      <td>0.004271</td>\n",
       "      <td>0.004270</td>\n",
       "      <td>welcome breitbart news livewire president dona...</td>\n",
       "    </tr>\n",
       "    <tr>\n",
       "      <th>14154</th>\n",
       "      <td>0.999907</td>\n",
       "      <td>0.004373</td>\n",
       "      <td>0.004373</td>\n",
       "      <td>0.004373</td>\n",
       "      <td>0.004372</td>\n",
       "      <td>0.005806</td>\n",
       "      <td>0.004374</td>\n",
       "      <td>0.004395</td>\n",
       "      <td>0.004372</td>\n",
       "      <td>0.004375</td>\n",
       "      <td>welcome dangerous faggot tour milo yiannopoulo...</td>\n",
       "    </tr>\n",
       "    <tr>\n",
       "      <th>11871</th>\n",
       "      <td>0.999906</td>\n",
       "      <td>0.004577</td>\n",
       "      <td>0.004577</td>\n",
       "      <td>0.004578</td>\n",
       "      <td>0.004577</td>\n",
       "      <td>0.004577</td>\n",
       "      <td>0.004578</td>\n",
       "      <td>0.004577</td>\n",
       "      <td>0.004577</td>\n",
       "      <td>0.004577</td>\n",
       "      <td>notice donald trump speaking florida night mar...</td>\n",
       "    </tr>\n",
       "    <tr>\n",
       "      <th>5298</th>\n",
       "      <td>0.999899</td>\n",
       "      <td>0.005227</td>\n",
       "      <td>0.004912</td>\n",
       "      <td>0.004645</td>\n",
       "      <td>0.004639</td>\n",
       "      <td>0.004639</td>\n",
       "      <td>0.004652</td>\n",
       "      <td>0.004638</td>\n",
       "      <td>0.004639</td>\n",
       "      <td>0.004639</td>\n",
       "      <td>wednesday donald trump addressed reporter pres...</td>\n",
       "    </tr>\n",
       "    <tr>\n",
       "      <th>15083</th>\n",
       "      <td>0.999896</td>\n",
       "      <td>0.004524</td>\n",
       "      <td>0.004523</td>\n",
       "      <td>0.004524</td>\n",
       "      <td>0.004523</td>\n",
       "      <td>0.004524</td>\n",
       "      <td>0.006597</td>\n",
       "      <td>0.004523</td>\n",
       "      <td>0.004523</td>\n",
       "      <td>0.004523</td>\n",
       "      <td>welcome breitbart news presidential debate liv...</td>\n",
       "    </tr>\n",
       "    <tr>\n",
       "      <th>9245</th>\n",
       "      <td>0.999891</td>\n",
       "      <td>0.004847</td>\n",
       "      <td>0.004848</td>\n",
       "      <td>0.004848</td>\n",
       "      <td>0.005446</td>\n",
       "      <td>0.004851</td>\n",
       "      <td>0.004849</td>\n",
       "      <td>0.004847</td>\n",
       "      <td>0.004848</td>\n",
       "      <td>0.004852</td>\n",
       "      <td>chinese communist defeated driven city mao zed...</td>\n",
       "    </tr>\n",
       "    <tr>\n",
       "      <th>21456</th>\n",
       "      <td>0.999888</td>\n",
       "      <td>0.004893</td>\n",
       "      <td>0.004893</td>\n",
       "      <td>0.004894</td>\n",
       "      <td>0.005652</td>\n",
       "      <td>0.005018</td>\n",
       "      <td>0.004895</td>\n",
       "      <td>0.004893</td>\n",
       "      <td>0.004893</td>\n",
       "      <td>0.004893</td>\n",
       "      <td>donald trump president another two month yet a...</td>\n",
       "    </tr>\n",
       "    <tr>\n",
       "      <th>21492</th>\n",
       "      <td>0.999883</td>\n",
       "      <td>0.004753</td>\n",
       "      <td>0.004753</td>\n",
       "      <td>0.004754</td>\n",
       "      <td>0.007266</td>\n",
       "      <td>0.004754</td>\n",
       "      <td>0.004754</td>\n",
       "      <td>0.004753</td>\n",
       "      <td>0.004753</td>\n",
       "      <td>0.004754</td>\n",
       "      <td>earlier article democrat v deplorables new cla...</td>\n",
       "    </tr>\n",
       "  </tbody>\n",
       "</table>\n",
       "</div>"
      ],
      "text/plain": [
       "        topic 0   topic 1   topic 2   topic 3   topic 4   topic 5   topic 6  \\\n",
       "18616  0.999918  0.004234  0.004602  0.004233  0.004232  0.004232  0.004234   \n",
       "13941  0.999916  0.004999  0.004227  0.004227  0.004228  0.004227  0.004228   \n",
       "4596   0.999907  0.004270  0.006297  0.004271  0.004270  0.004270  0.004273   \n",
       "14154  0.999907  0.004373  0.004373  0.004373  0.004372  0.005806  0.004374   \n",
       "11871  0.999906  0.004577  0.004577  0.004578  0.004577  0.004577  0.004578   \n",
       "5298   0.999899  0.005227  0.004912  0.004645  0.004639  0.004639  0.004652   \n",
       "15083  0.999896  0.004524  0.004523  0.004524  0.004523  0.004524  0.006597   \n",
       "9245   0.999891  0.004847  0.004848  0.004848  0.005446  0.004851  0.004849   \n",
       "21456  0.999888  0.004893  0.004893  0.004894  0.005652  0.005018  0.004895   \n",
       "21492  0.999883  0.004753  0.004753  0.004754  0.007266  0.004754  0.004754   \n",
       "\n",
       "        topic 7   topic 8   topic 9  \\\n",
       "18616  0.004233  0.004233  0.004232   \n",
       "13941  0.004226  0.004227  0.004301   \n",
       "4596   0.004269  0.004271  0.004270   \n",
       "14154  0.004395  0.004372  0.004375   \n",
       "11871  0.004577  0.004577  0.004577   \n",
       "5298   0.004638  0.004639  0.004639   \n",
       "15083  0.004523  0.004523  0.004523   \n",
       "9245   0.004847  0.004848  0.004852   \n",
       "21456  0.004893  0.004893  0.004893   \n",
       "21492  0.004753  0.004753  0.004754   \n",
       "\n",
       "                                                 Content  \n",
       "18616  president barack obama delivers final state un...  \n",
       "13941  know old ideological label conservative libera...  \n",
       "4596   welcome breitbart news livewire president dona...  \n",
       "14154  welcome dangerous faggot tour milo yiannopoulo...  \n",
       "11871  notice donald trump speaking florida night mar...  \n",
       "5298   wednesday donald trump addressed reporter pres...  \n",
       "15083  welcome breitbart news presidential debate liv...  \n",
       "9245   chinese communist defeated driven city mao zed...  \n",
       "21456  donald trump president another two month yet a...  \n",
       "21492  earlier article democrat v deplorables new cla...  "
      ]
     },
     "execution_count": 35,
     "metadata": {},
     "output_type": "execute_result"
    }
   ],
   "source": [
    "saturation[:10]"
   ]
  },
  {
   "cell_type": "markdown",
   "metadata": {},
   "source": [
    "## 5. d) Ilustration of Top 10 Articles"
   ]
  },
  {
   "cell_type": "code",
   "execution_count": 36,
   "metadata": {},
   "outputs": [
    {
     "name": "stdout",
     "output_type": "stream",
     "text": [
      "1 president barack obama delivers final state union speech tonight iran holding american sailor accord\n",
      "\n",
      "2 know old ideological label conservative liberal worn okay new label new ideology let get right belie\n",
      "\n",
      "3 welcome breitbart news livewire president donald trump first address joint session congress presiden\n",
      "\n",
      "4 welcome dangerous faggot tour milo yiannopoulos supervillain internet donald trump president first s\n",
      "\n",
      "5 notice donald trump speaking florida night march fresh victory two four state went poll saturday cit\n",
      "\n",
      "6 wednesday donald trump addressed reporter press conference trump tower new york city transcript foll\n",
      "\n",
      "7 welcome breitbart news presidential debate livewire republican democratic nominee donald trump hilla\n",
      "\n",
      "8 chinese communist defeated driven city mao zedong led surviving force long march safety rural hinter\n",
      "\n",
      "9 donald trump president another two month yet already scoring success american worker deal keep thous\n",
      "\n",
      "10 earlier article democrat v deplorables new class struggle come midwest author detailed democrat syst\n",
      "\n"
     ]
    }
   ],
   "source": [
    "# Printing the first 100 characters of the top 10 news articles for topic 0\n",
    "# Printing the first 100 characters of the top 10 news articles for topic 0\n",
    "\n",
    "for i in range(10):\n",
    "    print(str(i+1),saturation.iloc[i].Content[:100]+'\\n')"
   ]
  },
  {
   "cell_type": "markdown",
   "metadata": {},
   "source": [
    "### 5. e) It is in line with the observations in question 1 because the words that appear are in alignment with what Breitbart reports. This is observed through the word choice such 'dangerous faggot' 'supervillain internet' 'donald trump president another two month yet already scoring success american'. This allows us to confirm a right-wing bias as outline in our initial hypothesis."
   ]
  },
  {
   "cell_type": "markdown",
   "metadata": {},
   "source": [
    "## Question 6 - Predict a Publication"
   ]
  },
  {
   "cell_type": "markdown",
   "metadata": {},
   "source": [
    "#### 6. a) CNN + Breitbart"
   ]
  },
  {
   "cell_type": "code",
   "execution_count": 72,
   "metadata": {},
   "outputs": [],
   "source": [
    "%matplotlib inline\n",
    "import matplotlib.pyplot as plt\n",
    "import numpy as np\n",
    "import pandas as pd"
   ]
  },
  {
   "cell_type": "code",
   "execution_count": 73,
   "metadata": {},
   "outputs": [],
   "source": [
    "DATA_PATH = \"all-the-news/articles1.csv\"\n",
    "dataset = pd.read_csv(DATA_PATH)\n",
    "df = dataset[(dataset[\"publication\"] == \"Breitbart\") | (dataset[\"publication\"] == \"CNN\")]"
   ]
  },
  {
   "cell_type": "markdown",
   "metadata": {},
   "source": [
    "#### 6. b) LDA"
   ]
  },
  {
   "cell_type": "code",
   "execution_count": 74,
   "metadata": {},
   "outputs": [],
   "source": [
    "def print_topics(topics, feature_names, sorting, topics_per_chunk=6,\n",
    "                 n_words=20):\n",
    "    for i in range(0, len(topics), topics_per_chunk):\n",
    "        # for each chunk:\n",
    "        these_topics = topics[i: i + topics_per_chunk]\n",
    "        # maybe we have less than topics_per_chunk left\n",
    "        len_this_chunk = len(these_topics)\n",
    "        # print topic headers\n",
    "        print((\"topic {:<8}\" * len_this_chunk).format(*these_topics))\n",
    "        print((\"-------- {0:<5}\" * len_this_chunk).format(\"\"))\n",
    "        # print top n_words frequent words\n",
    "        for i in range(n_words):\n",
    "            try:\n",
    "                print((\"{:<14}\" * len_this_chunk).format(\n",
    "                    *feature_names[sorting[these_topics, i]]))\n",
    "            except:\n",
    "                pass\n",
    "        print(\"\\n\")"
   ]
  },
  {
   "cell_type": "code",
   "execution_count": 75,
   "metadata": {},
   "outputs": [
    {
     "name": "stderr",
     "output_type": "stream",
     "text": [
      "[nltk_data] Downloading package punkt to\n",
      "[nltk_data]     /Users/leonsurwald/nltk_data...\n",
      "[nltk_data]   Package punkt is already up-to-date!\n",
      "[nltk_data] Downloading package stopwords to\n",
      "[nltk_data]     /Users/leonsurwald/nltk_data...\n",
      "[nltk_data]   Package stopwords is already up-to-date!\n",
      "[nltk_data] Downloading package wordnet to\n",
      "[nltk_data]     /Users/leonsurwald/nltk_data...\n",
      "[nltk_data]   Package wordnet is already up-to-date!\n"
     ]
    }
   ],
   "source": [
    "from nltk import word_tokenize\n",
    "from nltk.corpus import stopwords\n",
    "from sklearn.feature_extraction.text import CountVectorizer, TfidfVectorizer\n",
    "from nltk.stem.wordnet import WordNetLemmatizer\n",
    "import re\n",
    "\n",
    "import warnings\n",
    "warnings.filterwarnings(\"ignore\")\n",
    "\n",
    "import nltk\n",
    "nltk.download('punkt')\n",
    "nltk.download('stopwords')\n",
    "nltk.download('wordnet')\n",
    "\n",
    "def lower_letters(content):\n",
    "    #Use regular expressions to do a find-and-replace\n",
    "    letters_only = re.sub(\"[^a-zA-Z]\", # The pattern to search for\n",
    "                          \" \",         # The pattern to replace it with\n",
    "                          content )    # The text to search\n",
    "    lower_case = letters_only.lower()  # Convert to lower case\n",
    "    return(lower_case)\n",
    "\n",
    "\n",
    "def tokenize(content):\n",
    "    tokens = word_tokenize(lower_letters(content))\n",
    "    words = [w for w in tokens if not w in stopwords.words(\"english\")]\n",
    "    stems = [stemmer.lemmatize(word) for word in words]\n",
    "    \n",
    "    return(stems)"
   ]
  },
  {
   "cell_type": "markdown",
   "metadata": {},
   "source": [
    "#### Sampling the data to reduce the training time."
   ]
  },
  {
   "cell_type": "code",
   "execution_count": 76,
   "metadata": {},
   "outputs": [],
   "source": [
    "frac = 0.3\n",
    "n = int((len(df) * frac)/2)\n",
    "\n",
    "subsample_b = df[df[\"publication\"] == \"Breitbart\"].sample(n=n, random_state=42)\n",
    "subsample_c = df[df[\"publication\"] == \"CNN\"].sample(n=n, random_state=42)\n",
    "subsample = pd.concat([subsample_b, subsample_c])"
   ]
  },
  {
   "cell_type": "code",
   "execution_count": 77,
   "metadata": {},
   "outputs": [
    {
     "data": {
      "text/plain": [
       "CNN          5290\n",
       "Breitbart    5290\n",
       "Name: publication, dtype: int64"
      ]
     },
     "execution_count": 77,
     "metadata": {},
     "output_type": "execute_result"
    }
   ],
   "source": [
    "subsample[\"publication\"].value_counts()"
   ]
  },
  {
   "cell_type": "code",
   "execution_count": 78,
   "metadata": {},
   "outputs": [],
   "source": [
    "content = list(subsample[\"content\"])\n",
    "target = list(subsample[\"publication\"])"
   ]
  },
  {
   "cell_type": "code",
   "execution_count": 79,
   "metadata": {},
   "outputs": [
    {
     "data": {
      "text/plain": [
       "['Police say they have found a newborn baby alive in a trash bin in a restroom at a Pennsylvania gas station. [Westmoreland County District Attorney John Peck told the Associated Press that the baby was found at a BP gas station in North Belle Vernon on Saturday afternoon.  Police believe a woman gave birth in the woman’s restroom. Paramedics called to the scene to treat the mother found the baby, police say. The baby girl appeared to be uninjured and is expected to survive, KDKA reports. She is being monitored at a local hospital. Peck said the District Attorney’s Office is investigating, but no charges have been filed yet.',\n",
       " 'Footage has emerged of teenagers in a North London suburb being shot at by a man dressed in traditional Muslim attire. [The shooting took place in Edmonton in North London when an armed man opened fire on four teenage boys as he chased them down near a shopping centre.  The footage of the clash reveals that the incident may have been sparked by an argument the teens had with the   Muslim man. The video appears to have been recorded from a nearby balcony and gives a bird’  view of what occurred. The attacker chases the four teens across a busy road while cars attempt to dodge and swerve around them. After tracking one of the teens, the gunman opens fire and appears to hit the boy in the leg. He then tries to catch up with the others but is unsuccessful as they manage to get away from the potentially murderous rampage. The video ends with the cameraman shouting to the attacker “They’re coming for you” as he flees the scene and the victims of the shooting pile into a nearby car and escape. The man who shot the footage, named Andrew according to the Daily Mail, said that he started filming the incident after he heard an altercation at the nearby shopping centre and became curious as to what was going on. “I looked over and decided to record it. I honestly thought it was some guys having a punch up or something like that,” he told the paper. “There was a lot of commotion and then these kids broke out of the crowd and ran away and the guy with the gun ran after them and opened fire. I couldn’t believe what I was filming. I’ve never seen anything like that outside my house, I was left wondering what the hell was going on out there. It’s London, I don’t expect to see that sort of stuff. ” Muslim and migrant crime is one the rise not just in the UK but all over Europe since the migrant crisis began.   warfare is hitting the streets in many European capitals and is often related to Muslims. Only a few weeks ago a group of Afghani migrants stabbed and beat a group of Chechen migrants over what was described as a Facebook insult in Vienna. The crime shocked Austrians as their capital is considered one of the safest cities in Europe and consistently ranks as the first or second best city to live in worldwide. The Metropolitan Police confirmed that they knew about the incident and said they had no reports of any of the victims sustaining injuries. They said that no one had been arrested in connection with the event and they had found evidence of a blank firearm having been discharged at the scene.',\n",
       " 'A   President Barack Obama compared gun control Tuesday to women’s rights, equating tighter background checks with the battle women waged to win the right to vote —  as well as the fight for civil rights for black Americans. [Invoking every shooting incident from Sandy Hook to Aurora to Fort Hood to San Bernardino, Obama leaned awkwardly over the podium, initially speaking about how we need to talk to each other instead of talking “past each other. ”  Using emotional arguments, alternatively provoking applause and tears, Obama waxed eloquent, at times allowing passionate rhetoric to carry him away on flights of fancy, leaving reality and reason far behind. One thing was crystal clear: Obama is not going to let the latest crisis go to waste. It doesn’t matter if the measures he’s proposing —  just like dozens of other   gun control measures that have failed to make it through Congress —  wouldn’t have prevented a single one of the tragedies he’s exploiting. It’s particularly insulting for those of us who lost friends and neighbors in the San Bernardino jihadist massacre.  Increasing background checks wouldn’t have stopped Syed Farook from obtaining the guns he used to commit mass murder. Why not?  Because Farook “broke the existing gun control law,” sending Enrique Marquez, his neighbor, to act as a straw buyer. It was Enrique who went into the gun store, passed the background check and illegally bought the weapons for the terrorists. There is no law that can stop a determined person who is not only operating outside of the realm and rule of law, but who is operating outside of the realm and rule of basic morality and human decency.  Once a person elevates himself above all law and morality, he is unfettered by concern for others or respect for human life. Blocking all private party transactions by requiring the same background checks of individual transactions as those performed by licensed FFL dealers will not stop the Sayed Farooks and Dylan Roofs and Adam Lanzas of the world.  Those who are   on carrying out the evil in their hearts, no matter what obstacles stand in their way, and no matter what the cost, are not going to be deterred by any new laws. Those are just words on paper. All Obama’s executive actions will do is further criminalize law abiding Americans, who are increasingly reacting to   tyranny, by ignoring and in essence, nullifying every new assault on gun rights. The simple truth is that Obama can shed all the tears he wants, but not a single   American is going to surrender his rights, nor will we allow further infringement of our   rights to defend our lives and our freedom from tyranny, just to make the   like Obama feel better. The only sure way to keep guns out of the hands of evil people is to protect society from those who have demonstrated they are a threat to innocent people. That means locking up violent criminals, instead of coddling them as Obama has done deporting illegal alien gang members who terrorize entire neighborhoods and keeping potential Islamic jihadists out of our country by temporarily banning all Muslim entry until we can tighten up our immigration process to screen out potential terrorists properly. If Obama had proposed those types of measures, he’d have the support of me and a lot of my friends —  conservatives, liberals and libertarians alike. But he’s not proposing any such measures. Obama once claimed that Americans are bitter and “they cling to guns or religion  …    ” and he’s right. There’s a seething anger at him and Washington in general as the government becomes the greatest threat to —  rather than protector of —  our natural, inalienable rights. Obama might do well to keep in mind that we Americans, “we few, we happy few, we band of brothers” also cling bitterly to our rights and our Constitution and will defend them against all enemies, foreign and domestic.',\n",
       " 'President Donald Trump defied media coverage of his presidency, vowing to keep fighting for the people who elected him president.  “Look at the way I’ve been treated lately especially by the media,” Trump said. “No politician in history, and I say this with great surety, has been treated worse or more unfairly. ” The president made his remarks during his commencement address at the Coast Guard Academy in Connecticut, offering his advice to the graduates. “You will find that thing happen to you that you do not deserve and that are not always warranted, but you have to put your head down and fight, fight, fight. ” Trump said. “Never ever, ever give up. Things will work out just fine. ” Trump’s remarks are the first public remarks since leaked Comey memos accused Trump of trying to shut down an investigation into his investigation into his former National Security Advisor Michael Flynn. The president encouraged cadets to fight hard for what they believed in. “You can’t let them get you down,” he said. “You can’t let the critics and the naysayers get in the way of your dreams. ” Trump’s remarks drew cheers and applause from the crowd, as he explained that he would continue to fight, pointing out that he won the election by doing just that. “The more righteous your fight, the more opposition you will face,” he said. Trump boasted that he had already brought back jobs back into the country, appointed a new Supreme Court Justice and invested heavily into the military. He also spoke about his efforts to reduce job killing regulations and his success slowing illegal border crossings. “I didn’t get elected to serve the Washington media or special interests,” he said. “I got elected to serve the forgotten men and women of our country, and that’s what I’m doing. ”  ',\n",
       " 'Less than a third of millennials believe Britain is a Christian country, while more than 40 per cent say the UK has no specific religious identity, a poll has found. [In a ComRes poll of 2, 048 British adults, under a third of those aged 18 to 24 agreed that Britain was a Christian country. This marks a sharp difference from older generations, with nearly three quarters of over 65s saying British is in fact Christian, while 67 per cent of people aged 55 to 64, and 58 per cent of people aged 45 to 54 agree.  By contrast, 41 per cent of 18 to    believe Britain is a country with no specific religious identity, an opinion shared by just 20 per cent of over 65s. Nonetheless, over half of millennials still thought it was important for politicians and   to have a good understanding of religion, and 54 per cent thought understanding religion was important regardless of whether you are personally religious. The poll was conducted for the Faith Research Centre, a new project from the polling firm to monitor religious sentiment in Britain. Katie Harrison, director of the new centre, said: “In some of the questions we asked, adults aged between   and adult aged 65+ answered at opposite ends of the scale, indicating marked differences between generations in perceptions of religion and belief. ” “This is consistent with some of the projects we’ve recently been commissioned to carry out. We’re seeing a strong interest in understanding the attitudes and needs of people in their 20s, especially in our faith research work. ” The figures will cause concern for church leaders who for decades have been unable to stop an increasing number of Christians abandoning and becoming ignorant of the faith. Last month, Lord Carey, a former Archbishop of Canterbury, said it was important for   migrants to realise Britain is a Christian country if they are to fully integrate. “The glue which tied us together used to be the institutions of our civil society, including the Church of England, and its hospitable establishment which allowed all voices of minorities a place at the table,” he said. “Contrastingly, in countries which insist on secularism, it is often impossible for religious believers to get a hearing. We are succumbing to a creeping culture of religious illiteracy. ”',\n",
       " 'While covering the New Year’s Eve celebration live in New Orleans this year, CNN’s Don Lemon took ringing in the new year literally.  After debating a tattoo or piercing, Lemon went with a piercing. Kathy Griffin suggested a nipple piercing, which Anderson Cooper show down. Shortly, Lemon downed a shot and had his left ear pierced on live television. Follow Trent Baker on Twitter @MagnifiTrent',\n",
       " 'A website and Twitter account have been set up for the transition team of United States   Donald J. Trump. [GreatAgain. gov hosts news about the Trump Presidential Transition team. Announcements include information on offices and agencies supporting the transition, the approximately 4, 000 Presidential appointees that will be needed, and some basic information on the transition process.  A release laying out information on the transition reads, in part: Ensuring the smooth transition of presidential power has been a democratic hallmark of the United States for more than 200 years. In 2015, Congress reinforced the importance of transition planning with the passage of the Presidential Transitions Improvements Act of 2015, which was signed into law in May of 2016. This new law built on the reforms of the   Presidential Transition Act of 2010, which provided major party candidates with office space and services immediately following party nomination to ensure continuity of government and to protect the institutions of the United States. The site also briefly introduces   Trump and Vice   Mike Pence. The site includes explainers on what “Make America Great Again” entails with   that delve into greater detail.   include Making America Secure Again, Getting America Back to Work Again, and Government for the People Again. Those hoping to secure a position in the   Administration can find information about just what it takes to come on board under the “Serve America” portion of the site. The section includes a link on how to apply online and what will be expected of those that do secure such a position. The Transition Team has also set up an verified Twitter account: @transition2017. Follow Michelle Moons on Twitter @MichelleDiana ',\n",
       " 'When declaring independence from King George III’s tyrannical rule, Thomas Jefferson wrote that men are born with   “unalienable rights,” and the government’s duty is to protect those rights. [This   comes as news to Senators Chris Murphy ( ) Joe Manchin ( ) and the whole Democrat Party, almost every member of which is focused on using the expansive powers of government to chip away at   rights rather than protect them.  For example, on August 6, 2013, Breitbart News quoted Murphy saying, “The Second Amendment is not an absolute right, not a   right. It has always had conditions upon it like the First Amendment has. ” Murphy is wrong in at least three places: 1. Second Amendment rights are  . 2. They are “absolute” because they were given by Him who is absolute. 3. First Amendment rights are absolute as well (as they, like all unalienable rights, have their origin in God, not government). As for the “absolute” nature of these rights, William Blackstone explained: The absolute rights of man, considered as a free agent, endowed with discernment to know good from evil, and with power of choosing those measures which appear to him to be most desirable, are usually summed up in one general appellation, and denominated the natural liberty of mankind. This natural liberty consists properly in a power of acting as one thinks fit, without any restraint or control, unless by the law of nature: being a right inherent in us by birth, and one of the gifts of God to man at his creation, when he endued him with the faculty of  . Note: “absolute rights” have limits but they are not limits put in place by government, rather, they are limits inherently present in “the law of nature” and evident in the order of nature. For example, my right to keep and bear arms is “absolute” but natural protections on it end if I use my guns —  or try to use my guns —  to take innocent life. Moreover, my right to life —  one of the most fundamental of natural rights —  ends if I use my Second Amendment rights to take the life of an innocent or am in the act of the trying to take that life. Government gun control does not do this. In fact, gun control is not even necessary to it. Rather, nature teaches us these things and the laws of man reflect it in statutes against murder and attempted murder and by laws that shield   citizens who kill attackers in  . This all comes together in Jefferson, who wrote: We hold these truths to be   that all men are created equal, that they are endowed by their Creator with certain unalienable Rights, that among these are Life, Liberty and the pursuit of Happiness. —  That to secure these rights, Governments are instituted among Men, deriving their just powers from the consent of the governed. We are born with “certain unalienable rights. ” The fact that they are “unalienable” means they cannot be separated from us they are part of our humanity. And it is government’s duty to “secure these rights,” not to regulate or in anyway diminish them. Therefore, when the Second Amendment says, “The right of the people to keep and bear Arms, shall not be infringed,” we must understand that it is incumbent on government to shield that right from infringement. AWR Hawkins is the Second Amendment columnist for Breitbart News and host of Bullets with AWR Hawkins, a Breitbart News podcast. He is also the political analyst for Armed American Radio. Follow him on Twitter: @AWRHawkins. Reach him directly at awrhawkins@breitbart. com.',\n",
       " 'AP: Foundation donors gained access to Clinton at State Dept. .. @JoeNBC calls the details ’breathtaking’ https:  .  During the Wednesday broadcast of “Morning Joe” on MSNBC, host Joe Scarborough reacted to the Associated Press report that says at least 85 of 154 people from private interests who met or had phone conversations scheduled with Clinton while she led the State Department donated to her family charity or pledged commitments to its international programs, calling the high proportion “breathtaking. ”  “[F]or the Associated press to write in a news story this term, that it was ‘an extraordinary proportion [of donors]’ shows you just how out of skew this was. It really was breathtaking when I read this story,” Scarborough stated. Follow Trent Baker on Twitter @MagnifiTrent',\n",
       " '“Paul Ryan is to blame for importing TB to Wisconsin, which increased 40 percent in 2015,” his challenger Paul Nehlen tells Breitbart News. [Nehlen is running against Ryan in the Republican primary. It will be held on August 9 in Wisconsin’s First Congressional District, which “encompasses Kenosha and Racine counties and portions of Milwaukee, Rock, Walworth and Waukesha counties. ”  “Paul has voted for every budget that has funded the federal refugee resettlement program, including the most recent ‘Cromnibus Budget’ he rammed through as Speaker,” Nehlen adds. “Federal taxpayers are paying resettlement agencies, like Lutheran Social Services of Wisconsin, more than $1 billion per year to resettle refugees with high rates of active tuberculosis across the country, and Paul Ryan is responsible for that,” Nehlen adds. “A vote for Paul Ryan is a vote to bring more TB to Wisconsin’s First Congressional District,” Nehlen tells Breitbart News. A report from the Wisconsin Department of Health Services released in April confirms Nehlen’s claim that the number of active tuberculosis (TB) cases increased by 43 percent in one year, from 48 in 2014 to 69 in 2015. Most of the increase in 21 active cases of TB is due to a spike in the number of   cases of TB, which increased from 33 in 2014 to 49 in 2015, an increase of 16 in   cases in one year, more than 70 percent of the total increase. At least four of the 69 cases of TB in Wisconsin in 2015 were diagnosed and treated in the First Congressional District, which Paul Ryan represents: three cases were in Racine County and one was in Kenosha County. In addition, the First Congressional District contains part of Milwaukee County, where 23 cases of active TB were diagnosed, and part of Waukesha County, where two cases of active TB were diagnosed. The increase in the number of active TB cases in Wisconsin and the number of   active TB cases in the state in 2015 comes in the same year that the number of refugees arriving in the state from Burma, a country with very high rates of active TB and one of the highest rates of   resistant (MDR) TB in the world increased by over 67 percent, from 557 in 2014 to 935 in 2015. Overall, the number of refugees sent to Wisconsin by the federal government increased by 25 percent in one year, from 1, 132 in 2014 to 1, 415 in 2015. The number of Burmese refugees sent to Wisconsin has been steadily rising each year since 2009, when 338 of the 536 refugees sent to Wisconsin (63 percent of that year’s total) came from Burma. Burmese refugees as a percentage of total refugees increased from 49 percent (557 out of 1132) in 2014 to 66 percent (935 out of 1, 415) in 2015. In 2012, the percentage of all refugees sent to Wisconsin by the federal government who came from Burma was also 49 percent (387 out of 785). It is not clear how many of the 49 cases of   TB in Wisconsin in 2015 were from recently arrived refugees, which the Department of Health Services defines as those who have lived in the United States for less than five years, and how many are from   refugees, legal immigrants, temporary immigrants, or illegal immigrants. The TB rate for new refugees —  those living in the United States for less than 5 years —  in Wisconsin is 70 per 100, 000, which is more than 200 times greater than the TB rate for   residents of Wisconsin, which is 0. 33 per 100, 000, according to the Wisconsin Department of Health Services. The incidence of TB among Burmese refugees is very high —  53. 2 per 100, 000. Likewise, Somali refugees have a high incidence of TB —  60. 8 per 100, 000. Between 2005 and 2014, the number of active TB cases reported in Wisconsin among   residents from the Hmong community (from Laos through Thailand) was 69. The number of active TB cases among   residents from Burma was 12. Breitbart News asked the Wisconsin Department of Health Services to provide details on the increase in active TB cases in Wisconsin in 2015 but has not received a response. As Breitbart News reported previously, the rise of MDR TB in Wisconsin has been a public health problem in the Badger State for a number of years. In the eight years between 2005 and 2012, a total of twenty cases of MDR TB, all   were diagnosed and treated in Wisconsin, at an estimated cost to the taxpayers of Wisconsin of $3 million. Then, in 2013, a MDR TB outbreak among resettled refugees in Sheboygan, Wisconsin forced the Wisconsin State Legislature to appropriate an additional $5 million to deal with the public health crisis there. Only one of the nine cases of active TB diagnosed as part of that outbreak turned out to be MDR. Nonetheless, a TB outbreak of that magnitude stretched the ability of state and local resources to cope. MDR TB in Wisconsin went from three cases in 2014 to four cases in 2015, according to the Wisconsin Department of Health Services, about double the national rate. To put that number in perspective, Burma averages about 9, 000 new cases of MDR TB each year. “Not only is Paul Ryan importing TB and MDR TB to Wisconsin and the First Congressional District using federal tax dollars, he is forcing Wisconsin residents and his constituents to pay for the exorbitant health care costs associated with the treatment of these   cases of active TB to be paid for out of their state and local tax payments,” challenger Nehlen adds. The primary in Wisconsin will be held on August 9.  ',\n",
       " 'Las Vegas (AFP)  —   Ronda Rousey’s comeback ended quickly as the American suffered her second straight pounding when Amanda Nunes won by a TKO less than a minute into their mixed martial arts fight. [The    Nunes, of Brazil, barely broke a sweat against a helpless Rousey to easily retain her UFC women’s bantamweight belt on Friday night in Las Vegas.  Referee Herb Dean stopped the rout at 48 seconds of the opening round after Nunes landed an overhand right, followed by a straight left to Rousey’s head. “She had her time. She did a lot for this sport. Thank you, Ronda Rousey. I’m the champion, the Lion,” Nunes said. Rousey entered the octagon first with her trademark scowl, but the angry demeanour quickly turned to desperation as the former champion looked out of her class from the moment Nunes backed her up with the first overhand right. The    from Los Angeles had not fought in over a year since she was pummelled in similar fashion by Holly Holm. Following that loss, Rousey went into seclusion and kept a low profile in the   to the Nunes fight by declining to do interviews. The Holm loss also shattered the mystique that Rousey had developed during the 12 straight wins that kickstarted her career. She is now   overall. Rousey, a former Olympic judo medalist, is one of MMA’s biggest stars and has helped widen the sport’s global appeal. So it was no surprise that her return after a protracted absence created a huge buzz, with organizers predicting record pay per view buys. Rousey earned a guaranteed $3 million payday for less than a minute’s work. Nunes collected $100, 000. Perhaps the most surprising aspect for US fans on Friday was Rousey’s inability to put up any semblance of a defence. She was rocked by a number of overhand rights before finally being wobbled one last time and appeared to be out on her feet. Rousey managed to stay up by holding onto the side of the cage with her right hand. After it was over, Rousey did not stick around. She exited the cage quickly without doing any interviews, leaving many to wonder if she will ever return to her old form.',\n",
       " 'The Trump administration did not get funding for a border wall construction in its   budget agreement with Democrats, so Breitbart News took a look at 99 programs that the federal budget is currently funding. [Apart from a few hundred million to repair fencing along the border, it’s pretty hard to see the president’s America First agenda in the budget',\n",
       " 'Friday during the U. N. Security Council’s session on Syria, Russia’s deputy U. N. envoy Vladimir Safronkov said President Donald Trump missile strike on Syria in response to that country’s alleged use of chemical weapons was an “act of aggression,” which will “only facilitated the strengthening of terrorism. ”  Safronkov said via a translator, “On the night of the 7th of April, the United States attacked the territory of sovereign Syria. We describe that attack as a flagrant violation of international law and an act of aggression. We strongly condemn the illegitimate actions by the U. S. The consequences of this for regional and international stability could be extremely serious. This attack was a flagrant violation of the 2015 memorandum on preventing incidents and ensuring security during our operations in Syrian airspace and the ministry of defense of Russia has stopped its cooperation with Pentagon under that memorandum. ” He continued, “Of recent times the United States administration has often talked about combat international terrorism and this was just  —   this justified American troops and their allies being present on Syrian territory. Although they were there without the invitation of the legitimate government of Syria and without the approval of the security council of the United Nations. Manipulating articles of the United Nations charter beyond any criticism. The aggression by the U. S. has only facilitated the strengthening of terrorism. The attack came against Syrian armed forces structure and its air force. That is against those who over all these years have been combatting terrorism. It’s not difficult to imagine how much the spirits of these terrorists have been raised after the support from Washington. ” Follow Pam Key on Twitter @pamkeyNEN',\n",
       " 'An Algerian who entered the UK illegally will be allowed to stay in the country, despite being a terror suspect with alleged links to Osama Bin Laden, because his fight against deportation damaged his “mental health”. [The man has been fighting deportation for 21 years, after entering the UK with a fake French passport, and is thought to have sent young British Muslims to terror training camps abroad.  According to The Telegraph, the judge ruled that the alleged jihadist’s   long deportation battle had affected his mental health, such that he could not be deported in the end. The man, who cannot be named, is also reported to be a father and uses a wheelchair. Home Secretary Amber Rudd has repeatedly vowed to change the law to make it easier to deport foreign criminals or those thought to be a security risk, and this ruling is just the latest blow to the government’s aims. The Home Office previously refused to grant the migrant the right to remain in the UK and had imposed restrictions on him, insisting he stayed at his home address and report to a police station every month. However, thanks to the judge, he will now also be allowed to study for a degree in Algebraic Thinking at the Open University. It is claimed he was a supporter of Algerian terror group Call and Combat. The Government alleged: “Your activities on behalf of the group and of extremist fighters in Chechnya include sponsoring young Muslims in the UK to go to Afghanistan to train for Jihad. ” In the ruling by the Special Immigration Appeals Commission, made on 16 December, Mr. Justice Collins said, “While I am not persuaded that the effect of maintaining short leave and conditions is to breach Article 3 of the ECHR, there can be no question that that is having an adverse effect on his mental health. ”',\n",
       " 'Planned Parenthood is thanking Senate Democrats for refusing to pass a Republican bill that would have provided $1. 1 billion to fight the Zika virus but withheld additional funding for the abortion giant. [Planned Parenthood tweets:  Thanks to the Senate for refusing to pass a #Zika plan that left out #reprohealth  family planning: https:  .   —   Planned Parenthood (@PPact) June 29, 2016,  “We are the front line of defense when it comes to battling Zika,” Planned Parenthood Federation of America’s Executive Vice President Dawn Laguens said Thursday, criticizing Republicans, reports CNSNews. Laguens argued that the Zika bill proposed by the GOP “does not put the health of women and children first by making family planning and condoms as widely available as possible to prevent what is also a sexually transmitted disease. ” She added that Senate Majority Leader Mitch McConnell ( .) “is allowing his party to undermine the ability of family planning providers like Planned Parenthood to do what we do best in the midst of this rapidly spreading Zika virus, a public health crisis that directly targets women and children. This is shameful. ” Thanks to @maziehirono for calling for immediate action on the #ZikaVirus that includes access to #reprohealth. https:  .   —   Planned Parenthood (@PPact) June 30, 2016,  The Senate has three days this week, following the July 4 break, to pass the measure that would fund   efforts. Otherwise, the issue will not be addressed until September, after the summer recess. As Breitbart News has reported, Planned Parenthood has been taking advantage of fears surrounding the Zika virus and the birth defect known as microcephaly that is linked with the virus. The abortion giant is particularly targeting Latin American countries that have restrictive abortion laws, in hopes of capitalizing on women’s fear and changing those laws. How Zika Is Shaping the Sexual and Reproductive Health and Rights Agenda: https:  .  #ZikaVirus,  —   Planned Parenthood (@PPFA) May 2, 2016,  “It is beyond outrageous that Senate Democrats are blocking $1. 1 billion in supplemental Zika funding because they are demanding an even bigger earmark for their political donors, Planned Parenthood,” Maureen Ferguson of The Catholic Association tells Breitbart News. “Half a billion taxpayer dollars annually already flow to Planned Parenthood, which runs the nations largest chain of abortion centers. ” Ferguson adds: Its U. S. affiliates are eligible to compete for additional taxpayer dollars through the Zika prevention bill, yet they are demanding even more for their affiliates in Puerto Rico. Even worse, they are willing to hold hostage the $1. 1 billion designated for hospitals, community health centers, and public health departments for Zika prevention, mosquito control, and vaccine development. Senate Democrats are standing shoulder to shoulder with their political allies, instead of pregnant women living in fear of the Zika virus. This is political cronyism at its worst. As Roll Call reports, President Barack Obama  —   a big supporter of Planned Parenthood  —   demanded Congress delay its summer recess in order to pass his $1. 9 billion proposal to fight the Zika virus. “This is actually something that we could reduce the risks if Congress does the right thing and allocates the dollars that are needed right now to get it done,” Obama said. “The problem right now is the money is stuck in Congress and we have not seen the House and the Senate come together in a sensible [way] to put forward the dollars that we have requested   …     to get the job done. I expect Congress to get this funding done before they leave for vacation, before they adjourn. That’s part of their basic responsibility. ”',\n",
       " 'Wednesday on CNBC’s “Power Lunch,” Washington Post columnist George Will reacted to the news of Bill O’Reilly, host of Fox News Channel’s flagship program “The O’Reilly Factor,” would be parting ways with Fox News amid allegations of sexual harassment.  Will, who had a   with O’Reilly in November 2015 over some of the details in O’Reilly’s “Killing Reagan” book, said for Fox News to brand itself as something other than “a somewhat stale product” was contingent on moving beyond O’Reilly. “It’s like being called you ugly by a frog,” Will said. “Mr. O’Reilly is, on air is reckless, coarse and bullying. Turns out off the air, he’s reckless, coarse and bullying. So there’s a kind of seamlessness here. I think Fox News has to decide what it wants to be and for whom it wants to be a news source. It seems as long as Bill O’Reilly is the face of Fox News, and let’s face it, he is, their ability to expand their brand and to diversify their audience and become something other than a somewhat stale product depends on moving beyond Bill O’Reilly. ” “Power Lunch”   Michelle   asked how that squared with the fact the O’Reilly puts up the biggest numbers in cable news, to which Will said it was based more on brand loyalty than personalities. “Well, the question is, are they loyal to Bill O’Reilly or are they loyal to the Fox brand itself?” Will replied. “When Megyn Kelly left, and they put Tucker Carlson in her slot, nothing happened. The ratings stayed strong, and the viewers were happy. I have a feeling that Mr. O’Reilly is replaceable. As Charles de Gaulle once said, the graveyards are full of indispensable men. ” Follow Jeff Poor on Twitter @jeff_poor',\n",
       " 'President Donald Trump’s Senior adviser Stephen K. Bannon has exited his role on President Donald Trump’s National Security Council, claiming that his mission is complete. [“Susan Rice operationalized the NSC during the last administration. I was put on to ensure that it was ” Bannon said in a statement to the Wall Street Journal.  The council suffered a tumultuous transition after Trump’s first National Security Adviser Gen. Michael Flynn resigned less than a month after he took office and was replaced by Lt. Gen. H. R. McMaster. “General McMaster has returned the NSC to its proper function,” Bannon said in his statement. Other sources told reporters that Bannon was part of the council to monitor Flynn’s activity in the early days of the Trump administration. Former National Security Adviser Susan Rice and Obama allies were furious that Bannon was allowed on the council, even though he rarely attended meetings. Rice was exposed earlier this week by reports revealing that she requested the unmasking of key members of Trump’s transition team. A White House source confirmed to Breitbart News that Bannon will retain his security clearance in the West Wing. Other reporters noted that Bannon could still attend NSC meetings even though he was removed from the National Security council principles committee.  Trump’s Secretary of Energy Rick Perry was added to the council. Nikki Haley, the Representative of the United States to the United Nations was also included as well as Director of National intelligence Dan Coats, Chairman of the Joint Chiefs of Staff General Joseph Dunford, and CIA director Mike Pompeo. ',\n",
       " 'Notre Dame law professor and noted Catholic educator Gerard Bradley says it’s time for Donald Trump to focus on eliminating the Common Core standards by lighting a fire under the grassroots movement that drew attention to the federal reform some years ago. [“It is time to refocus President Trump’s attention upon Common Core and persuade him to ignite a national movement to roll it back,” writes Bradley at the Witherspoon Institute’s Public Discourse.   Bradley, who is Witherspoon’s chair of the academic committee of the Simon Center on Religion and the Constitution, is especially concerned about Catholic schools that have adopted the nationalized Common Core. He writes: The stated objective of Common Core is to produce “  and  ” high school graduates. Yet even its proponents concede that it only prepares students for   level work. In truth, Common Core is a dramatic reduction of the nature and purpose of education to mere workforce preparation. As Breitbart News reported in 2013, Bradley led some 130 Catholic scholars in a letter to the United States Catholic bishops, requesting that they abandon implementation of the Common Core in Catholic dioceses. At that point, about 100 of the 195 Catholic dioceses in the nation had adopted the standards reform. The letter asserted that Common Core does “a grave disservice to Catholic education” and is “contrary to tradition and academic studies on reading and human formation. ” Referring to the Common Core’s emphasis on informational reading, the scholars charged that supporters of the Core were seeking to “transform ‘literacy’” into a ‘critical’ skill set, at the expense of sustained and heartfelt encounters with great works of literature. ” Calling Common Core “so deeply flawed,” the scholars continued: Promoters of Common Core say that it is designed to make America’s children “college and career ready. ” We instead judge Common Core to be a recipe for standardized workforce preparation. Common Core shortchanges the central goals of all sound education and surely those of Catholic education: to grow in the virtues necessary to know, love, and serve the Lord, to mature into a responsible, flourishing adult, and to contribute as a citizen to the process of responsible democratic  . Common Core adopts a   pragmatic approach to education. The heart of its philosophy is, as far as we can see, that it is a waste of resources to “ ” people. The basic goal of   schools is to provide everyone with a modest skill set after that, people can specialize in college  —   if they end up there.   do not need to know Huck Finn. Physicians have no use for the humanities. Only those destined to major in literature need to worry about Ulysses. “The contrast between a sound Catholic education and Common Core could scarcely be sharper,” writes Bradley today, citing the joint publication of the Pioneer Institute and the American Principles Project titled, After the Fall: Catholic Education Beyond the Common Core. Bradley further explains that attempts by Catholic educators to “work with” or adapt the Common Core standards are useless. “Common Core is so philosophically at odds with a sound Catholic education that an acceptable modus vivendi is unavailable,” he states. “Trying to pour Common Core into such venerable wineskins will burst them. ” Bradley observes the move to adopt Common Core in many secularized or independent “Catholic” schools is consistent with the fact that the “Catholicism” in the schools is already of the   variety. He writes: These schools are already far down the path of transition from providing a truly Catholic education (as it is so aptly described in “After the Fall”) to being more like a religiously inspired, affordable private alternative to dysfunctional public schools. The appeal of this denouement is undeniable: urban “Catholic” schools might be the best route up and out of the ghetto for thousands of   children who deserve that opportunity. But this encouraging effect is and must be just that: a welcome   of providing a genuine Catholic education. Just as more parents are withdrawing their children from Common Core public schools and choosing to homeschool them instead, Bradley warns the same will happen to Catholic schools that have signed onto the Core, a situation that risks more Catholic young people with little to no knowledge of their faith. “Adopting Common Core will surely accelerate this exodus, a hemorrhage of precisely those students who should form a Catholic school’s backbone,” he adds. Trump’s education secretary nominee billionaire Betsy DeVos has for years financed and served as a board member of organizations that promote Common Core, but she has recently denied that she is a supporter of the standards.',\n",
       " 'Fashion designer Sophie Theallet is urging her colleagues in couture to follow her example by refusing to “dress” the future first lady Melania Trump. [“As one who celebrates and strives for diversity, individual freedom and respect for all lifestyles, I will not participate in dressing or associating in any way with the next First Lady,” Theallet wrote, reports Elle. “The rhetoric of racism, sexism, and xenophobia unleashed by her husband’s presidential campaign are incompatible with the shared values we live by. I encourage my fellow designers to do the same. ”  Theallet says designing for current first lady Michelle Obama during her husband’s two terms as president was “a highlight and an honor. ” “She has contributed to having our name recognized and respected worldwide,” the designer continued about Obama. “Her values, actions, and grace have always deeply resonated with me. ” “Integrity is our only true currency,” Theallet added. The New York Times reports, however, designer Diane von Furstenberg’s notion that her colleagues with Theallet’s attitude may change their tune once Trump is actually inaugurated. Quoting the defeated Hillary Clinton’s concession speech, von Furstenberg said the fashion industry should also “do what we can” to accept the election results. None of the designers asked by the Times if they would “dress” Melania Trump for the inauguration said they would not, says the report. Von Furstenberg also pointed out that Trump  —   a former model  —   may not actually need their assistance. “I’m sure she knows what to do,” she said. “It would be hypocritical to say no to dressing a Trump,” Marcus Wainwright, chief executive of Rag  Bone, also considered. “If we say we are about inclusivity and making American manufacturing great again, then we have to put that before personal political beliefs. ”',\n",
       " 'Gold Star mother Debbie Lee of America’s Mighty Warriors said, “You don’t aspire to be a Gold Star mother you become a Gold Star family member because you have a loved one who died in combat. ” Lee discussed with Breitbart News Daily the work her organization does to honor veterans. [Lee’s son Marc Alan Lee was the first Navy SEAL killed in Iraq on August 2, 2006. She discussed in detail events surrounding his death, as well as his legacy.  America’s Mighty Warriors’ mission is “to honor the sacrifices of our troops, the fallen and their families by providing programs that improve quality of life, resiliency and recovery. ” More information on America’s Mighty warriors and its programs can be found here: Debbie Lee founded America’s Mighty Warriors, after her son Marc was the first Navy SEAL to be killed in Iraq on August 2, 2006. In Marc’s Last Letter Home, he asked for friends and family to “pass on the love and kindness and precious gift of human life. ” Since then, America’s Mighty Warriors has been fighting to support our troops, the fallen and their families and to work with   organizations to do the same. A Gold Star Mothers Club also exists: The American Gold Star Mothers Inc. was formed in the United States shortly after World War I to provide support for mothers who lost sons or daughters in the war. The name came from the custom of families of servicemen hanging a banner called a Service Flag in the window of their homes. The Service Flag had a star for each family member in the United States Armed Forces. Living servicemen were represented by a blue star, and those who had lost their lives were represented by a gold star. Gold Star Mothers are often socially active but are  . Today, membership in the Gold Star Mothers is open to any American woman who has lost a son or daughter in service to the United States. On the last Sunday in September, Gold Star Mother’s Day is observed in the U. S. in their honor. [1] The group holds a congressional charter under Title 36 of the United States Code. Breitbart News Daily airs from 6 AM to 9 AM Eastern weekdays on SiriusXM Patriot 125. ']"
      ]
     },
     "execution_count": 79,
     "metadata": {},
     "output_type": "execute_result"
    }
   ],
   "source": [
    "content[0:20]"
   ]
  },
  {
   "cell_type": "markdown",
   "metadata": {},
   "source": [
    "#### 6. b) Creating BoW and Training LDA\n",
    "- TF-IDF and LDA respectively are only trained using train sets and then used to transform both train and test partitions. This is done to avoid any potential information leakage into the test sets."
   ]
  },
  {
   "cell_type": "code",
   "execution_count": 80,
   "metadata": {},
   "outputs": [],
   "source": [
    "import numpy as np\n",
    "from sklearn.model_selection import train_test_split\n",
    "X_train, X_test, y_train, y_test = train_test_split(content,target, test_size=0.20, random_state=42)"
   ]
  },
  {
   "cell_type": "code",
   "execution_count": 81,
   "metadata": {},
   "outputs": [],
   "source": [
    "stemmer = WordNetLemmatizer()\n",
    "\n",
    "vectorizer = TfidfVectorizer(ngram_range=(1,3), \n",
    "                             tokenizer=tokenize,\n",
    "                             preprocessor = None, \n",
    "                             stop_words = 'english',\n",
    "                             max_df=0.85, \n",
    "                             min_df=10,\n",
    "                             use_idf=True, \n",
    "                             smooth_idf = False,\n",
    "                             sublinear_tf = False)\n",
    "\n",
    "\n",
    "bow_train = vectorizer.fit_transform(X_train)\n",
    "bow_test = vectorizer.transform(X_test)"
   ]
  },
  {
   "cell_type": "code",
   "execution_count": 82,
   "metadata": {},
   "outputs": [],
   "source": [
    "# Number of topics\n",
    "n_components = 10\n",
    "\n",
    "from sklearn.decomposition import LatentDirichletAllocation\n",
    "\n",
    "lda = LatentDirichletAllocation(n_components=n_components, \n",
    "                                max_iter=20,\n",
    "                                learning_method='batch')\n",
    "\n",
    "lda_train = lda.fit_transform(bow_train)\n",
    "lda_test = lda.transform(bow_test)"
   ]
  },
  {
   "cell_type": "code",
   "execution_count": 85,
   "metadata": {},
   "outputs": [
    {
     "name": "stdout",
     "output_type": "stream",
     "text": [
      "topic 0       \n",
      "--------      \n",
      "erdogan       \n",
      "duterte       \n",
      "tciccotta     \n",
      "recep         \n",
      "tayyip        \n",
      "recep tayyip  \n",
      "pkk           \n",
      "president recep\n",
      "volcano       \n",
      "president recep tayyip\n",
      "\n",
      "\n",
      "topic 1       \n",
      "--------      \n",
      "cartel        \n",
      "breitbart texas\n",
      "look amazing  \n",
      "cnn student news\n",
      "student news  \n",
      "zeta          \n",
      "cnn student   \n",
      "guzman        \n",
      "tamaulipas    \n",
      "mexican       \n",
      "\n",
      "\n",
      "topic 2       \n",
      "--------      \n",
      "said          \n",
      "people        \n",
      "police        \n",
      "year          \n",
      "cnn           \n",
      "u             \n",
      "woman         \n",
      "new           \n",
      "state         \n",
      "time          \n",
      "\n",
      "\n",
      "topic 3       \n",
      "--------      \n",
      "brzezinski    \n",
      "schwarzenegger\n",
      "scarborough   \n",
      "gaga          \n",
      "viola         \n",
      "lady gaga     \n",
      "caracas       \n",
      "lemonade      \n",
      "hodgkinson    \n",
      "faa           \n",
      "\n",
      "\n",
      "topic 4       \n",
      "--------      \n",
      "azuz          \n",
      "selfies       \n",
      "videotape     \n",
      "carl azuz     \n",
      "begin videotape\n",
      "end videotape \n",
      "clip azuz     \n",
      "video clip azuz\n",
      "lily          \n",
      "video clip    \n",
      "\n",
      "\n",
      "topic 5       \n",
      "--------      \n",
      "advertisement \n",
      "chris         \n",
      "writing       \n",
      "daily         \n",
      "mail          \n",
      "daily mail    \n",
      "descend       \n",
      "said north korea\n",
      "tyrant        \n",
      "mistress      \n",
      "\n",
      "\n",
      "topic 6       \n",
      "--------      \n",
      "korea         \n",
      "north korea   \n",
      "korean        \n",
      "north         \n",
      "north korean  \n",
      "missile       \n",
      "kim           \n",
      "pyongyang     \n",
      "south korea   \n",
      "jong          \n",
      "\n",
      "\n",
      "topic 7       \n",
      "--------      \n",
      "boko          \n",
      "boko haram    \n",
      "haram         \n",
      "live          \n",
      "update        \n",
      "discus        \n",
      "breitbart news twitter\n",
      "news twitter  \n",
      "twitter live  \n",
      "follow breitbart news\n",
      "\n",
      "\n",
      "topic 8       \n",
      "--------      \n",
      "trump         \n",
      "clinton       \n",
      "president     \n",
      "republican    \n",
      "campaign      \n",
      "obama         \n",
      "donald        \n",
      "said          \n",
      "donald trump  \n",
      "hillary       \n",
      "\n",
      "\n",
      "topic 9       \n",
      "--------      \n",
      "gun           \n",
      "awrhawkins    \n",
      "second amendment\n",
      "amendment     \n",
      "awr           \n",
      "awr hawkins   \n",
      "hawkins       \n",
      "gun control   \n",
      "awrhawkins breitbart\n",
      "awrhawkins reach\n",
      "\n",
      "\n"
     ]
    }
   ],
   "source": [
    "# for each topic (a row in the components_), sort the features (ascending).\n",
    "# Invert rows with [:, ::-1] to make sorting descending\n",
    "sorting = np.argsort(lda.components_, axis=1)[:, ::-1]\n",
    "\n",
    "# get the feature names from the vectorizer:\n",
    "feature_names = np.array(vectorizer.get_feature_names())\n",
    "\n",
    "print_topics(\n",
    "    topics=range(n_components), \n",
    "    feature_names=feature_names, \n",
    "    sorting=sorting, \n",
    "    topics_per_chunk=1, \n",
    "    n_words=10)"
   ]
  },
  {
   "cell_type": "code",
   "execution_count": 86,
   "metadata": {},
   "outputs": [],
   "source": [
    "bow_train = pd.DataFrame(bow_train.toarray().transpose(), index=vectorizer.get_feature_names()).transpose()\n",
    "bow_test = pd.DataFrame(bow_test.toarray().transpose(), index=vectorizer.get_feature_names()).transpose()"
   ]
  },
  {
   "cell_type": "code",
   "execution_count": 87,
   "metadata": {},
   "outputs": [],
   "source": [
    "from sklearn.ensemble import RandomForestClassifier\n",
    "from sklearn.metrics import plot_confusion_matrix\n",
    "from sklearn.metrics import roc_curve, auc, roc_auc_score\n",
    "from sklearn.metrics import confusion_matrix\n",
    "from sklearn.metrics import average_precision_score, precision_recall_curve\n",
    "from sklearn.metrics import classification_report, confusion_matrix, f1_score\n",
    "from sklearn.metrics import roc_curve, auc, roc_auc_score"
   ]
  },
  {
   "cell_type": "markdown",
   "metadata": {},
   "source": [
    "#### 6. c) Classification/Prediction using LDA"
   ]
  },
  {
   "cell_type": "code",
   "execution_count": 88,
   "metadata": {},
   "outputs": [
    {
     "data": {
      "text/plain": [
       "RandomForestClassifier(bootstrap=True, ccp_alpha=0.0, class_weight=None,\n",
       "                       criterion='gini', max_depth=10, max_features='auto',\n",
       "                       max_leaf_nodes=None, max_samples=None,\n",
       "                       min_impurity_decrease=0.0, min_impurity_split=None,\n",
       "                       min_samples_leaf=1, min_samples_split=2,\n",
       "                       min_weight_fraction_leaf=0.0, n_estimators=1000,\n",
       "                       n_jobs=None, oob_score=False, random_state=42, verbose=0,\n",
       "                       warm_start=False)"
      ]
     },
     "execution_count": 88,
     "metadata": {},
     "output_type": "execute_result"
    }
   ],
   "source": [
    "# train a random forest classifier\n",
    "rf = RandomForestClassifier(\n",
    "    n_estimators = 1000, \n",
    "    random_state = 42, \n",
    "    max_depth = 10)\n",
    "\n",
    "rf.fit(lda_train, y_train)"
   ]
  },
  {
   "cell_type": "code",
   "execution_count": 89,
   "metadata": {},
   "outputs": [
    {
     "name": "stdout",
     "output_type": "stream",
     "text": [
      "              precision    recall  f1-score   support\n",
      "\n",
      "   Breitbart       0.68      0.67      0.68      1066\n",
      "         CNN       0.67      0.68      0.68      1050\n",
      "\n",
      "    accuracy                           0.68      2116\n",
      "   macro avg       0.68      0.68      0.68      2116\n",
      "weighted avg       0.68      0.68      0.68      2116\n",
      "\n"
     ]
    }
   ],
   "source": [
    "y_pred = rf.predict(lda_test)\n",
    "report = classification_report(y_test, y_pred)\n",
    "print(report)"
   ]
  },
  {
   "cell_type": "code",
   "execution_count": 90,
   "metadata": {},
   "outputs": [
    {
     "data": {
      "image/png": "[encoded data removed]",
      "text/plain": [
       "<Figure size 1080x576 with 4 Axes>"
      ]
     },
     "metadata": {
      "needs_background": "light"
     },
     "output_type": "display_data"
    }
   ],
   "source": [
    "fig, (ax1, ax2) = plt.subplots(1, 2, figsize=(15, 8))\n",
    "\n",
    "plot_confusion_matrix(rf, lda_test, y_test,\n",
    "                                  cmap=plt.cm.Blues, normalize=None, ax=ax1)\n",
    "ax1.set_title(\"Confusion matrix, without normalization\")\n",
    "\n",
    "plot_conf = plot_confusion_matrix(rf,lda_test, y_test,\n",
    "                                  cmap=plt.cm.Blues, normalize=\"true\", ax=ax2)\n",
    "ax2.set_title(\"Normalized confusion matrix\")\n",
    "    \n",
    "    \n",
    "plt.show()"
   ]
  },
  {
   "cell_type": "markdown",
   "metadata": {},
   "source": [
    "#### 6. d) Classification/Prediction using lexical method (TF-IDF)\n",
    "- Using the BoW (TF-IDF) as a feature expectedly proves to be signifantly better performing compared to using the LDA. The reason is that the LDA removes information as it tries to reduce documents to their common topics. The BoW still contains the individual words and likely also has somewhat frequent mentions of the respective publication (CNN or Breitbart). Overall this explains why the LDA performs worse than using the BoW (TD-IDF). "
   ]
  },
  {
   "cell_type": "code",
   "execution_count": 91,
   "metadata": {},
   "outputs": [
    {
     "data": {
      "text/plain": [
       "RandomForestClassifier(bootstrap=True, ccp_alpha=0.0, class_weight=None,\n",
       "                       criterion='gini', max_depth=10, max_features='auto',\n",
       "                       max_leaf_nodes=None, max_samples=None,\n",
       "                       min_impurity_decrease=0.0, min_impurity_split=None,\n",
       "                       min_samples_leaf=1, min_samples_split=2,\n",
       "                       min_weight_fraction_leaf=0.0, n_estimators=1000,\n",
       "                       n_jobs=None, oob_score=False, random_state=42, verbose=0,\n",
       "                       warm_start=False)"
      ]
     },
     "execution_count": 91,
     "metadata": {},
     "output_type": "execute_result"
    }
   ],
   "source": [
    "# train a random forest classifier\n",
    "rf = RandomForestClassifier(\n",
    "    n_estimators = 1000, \n",
    "    random_state = 42, \n",
    "    max_depth = 10)\n",
    "\n",
    "rf.fit(bow_train, y_train)"
   ]
  },
  {
   "cell_type": "code",
   "execution_count": 92,
   "metadata": {},
   "outputs": [
    {
     "name": "stdout",
     "output_type": "stream",
     "text": [
      "              precision    recall  f1-score   support\n",
      "\n",
      "   Breitbart       0.96      0.88      0.92      1066\n",
      "         CNN       0.89      0.97      0.93      1050\n",
      "\n",
      "    accuracy                           0.92      2116\n",
      "   macro avg       0.93      0.92      0.92      2116\n",
      "weighted avg       0.93      0.92      0.92      2116\n",
      "\n"
     ]
    }
   ],
   "source": [
    "y_pred = rf.predict(bow_test)\n",
    "report = classification_report(y_test, y_pred)\n",
    "print(report)"
   ]
  },
  {
   "cell_type": "code",
   "execution_count": 93,
   "metadata": {},
   "outputs": [
    {
     "data": {
      "image/png": "[encoded data removed]",
      "text/plain": [
       "<Figure size 1080x576 with 4 Axes>"
      ]
     },
     "metadata": {
      "needs_background": "light"
     },
     "output_type": "display_data"
    }
   ],
   "source": [
    "fig, (ax1, ax2) = plt.subplots(1, 2, figsize=(15, 8))\n",
    "\n",
    "plot_confusion_matrix(rf, bow_test , y_test,\n",
    "                                  cmap=plt.cm.Blues, normalize=None, ax=ax1)\n",
    "ax1.set_title(\"Confusion matrix, without normalization\")\n",
    "\n",
    "plot_conf = plot_confusion_matrix(rf, bow_test, y_test,\n",
    "                                  cmap=plt.cm.Blues, normalize=\"true\", ax=ax2)\n",
    "ax2.set_title(\"Normalized confusion matrix\")\n",
    "    \n",
    "    \n",
    "plt.show()"
   ]
  }
 ],
 "metadata": {
  "kernelspec": {
   "display_name": "Python 3",
   "language": "python",
   "name": "python3"
  },
  "language_info": {
   "codemirror_mode": {
    "name": "ipython",
    "version": 3
   },
   "file_extension": ".py",
   "mimetype": "text/x-python",
   "name": "python",
   "nbconvert_exporter": "python",
   "pygments_lexer": "ipython3",
   "version": "3.7.1"
  }
 },
 "nbformat": 4,
 "nbformat_minor": 4
}
